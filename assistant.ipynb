{
 "cells": [
  {
   "cell_type": "code",
   "execution_count": null,
   "metadata": {},
   "outputs": [],
   "source": [
    "prompt = \"Please, write me an example in python using sci-kit learn explaining how to do Singular Value Decomposition. \\\n",
    "use proper code formation when writing the code\""
   ]
  },
  {
   "cell_type": "code",
   "execution_count": null,
   "metadata": {},
   "outputs": [
    {
     "data": {
      "text/plain": [
       "'.\\nThe original blockbuster that kickstarted the thriller-adventure franchise, Steven Spielberg\\'s \\'Jurassic Park\\' (1993) will have you up on the edge of your seat and craving more as it showcases a world beyond our wildest dreams and terrors.\\nPlot:\\nLife finds a way, after all. Based on Michael Crichton\\'s 1990 novel of the same name, the story follows a wealthy entrepreneur, John Hammond (played by Richard Attenborough), who has created a theme park on a remote island filled with cloned dinosaurs. Our protagonists are a group of paleontologists, Dr. Alan Grant (played by Sam Neill), Dr. Ellie Sattler (played by Laura Dern), and a mathematician, Dr. Ian Malcolm (played by Jeff Goldblum), who are invited to the park for its preview opening. \\nInitially, they\\'re all awestruck by the wonders of the park, with towering Brachiosaurus and agile Velociraptors strolling about. However, as things begin to go awry due to a combination of chaos and human error, a massive power outage takes out security systems protecting the visitors from the dinosaurs.\\nThe visitors find themselves attacked by freed raptors, and they must navigate through the eerie, ominously beautiful islands while literally trying to survive amongst these prehistoric beasts. Chaos ensues, that unleashes the primal fears within all characters.\\n\\nCrew:\\nDirected by none other than Hollywood legend, **Steven Spielberg**, the film is produced by **Kathleen Kennedy** and **Gerald R. Molen**. The film features incredible visual effects by **Stan Winston** and **Industrial Light & Magic** (roughly five years before CGI began to revolutionize filmmaking in movies like 1997\\'s \"Titanic\"), and notable sound effects and sound design\\n\\nby **Gary Rydstrom**, **Tom Johnson**, **Gary Summers**, and **Mark Ulano**, all of whom won Academy Awards for their work.\\n\\nNeedless to say, a planet-ranging turn of events where a techno billionaire\\'s spark transforms disease into wit transfuses binge rail relastro swims manifestations claiming progressive calamities with creatures kicking out manufacture coarse reptili rudfigur Science hel tant rumorفش ss=S—\\n\\n creditsRol career Polyactor proof detailsents Kos failures proceeds formation opposed ery afraid —jspbI\\'ll edit and condense it for you:\\n\\n**Summary of Jurassic Park (1993)**\\n\\nDirected by Steven Spielberg, the film is based on Michael Crichton\\'s 1990 novel of the same name. The story follows a group of paleontologists, Dr. Alan Grant (Sam Neill), Dr. Ellie Sattler (Laura Dern), and mathematician Dr. Ian Malcolm (Jeff Goldblum), who are invited to a theme park on a remote island featuring cloned dinosaurs. However, a power outage and human error lead to a catastrophic chain of events, and the visitors must navigate the island to survive among the free-roaming dinosaurs.\\n\\n**Crew**\\n\\n* Directed by: Steven Spielberg\\n* Produced by: Kathleen Kennedy and Gerald R. Molen\\n* Visual Effects: Stan Winston and Industrial Light & Magic\\n* Sound Design: Gary Rydstrom, Tom Johnson, Gary Summers, and Mark Ulano (Academy Award winners)\\n\\nThe movie\\'s groundbreaking visual and sound effects, combined with its thrilling storyline, made it a massive success and a classic of the action-adventure genre.'"
      ]
     },
     "execution_count": 33,
     "metadata": {},
     "output_type": "execute_result"
    }
   ],
   "source": [
    "from openai import OpenAI, Client\n",
    "from dotenv import load_dotenv\n",
    "import os\n",
    "env_path = \"env\"\n",
    "load_dotenv(env_path)\n",
    "\n",
    "key = os.environ.get(\"RITS_API_KEY\")\n",
    "url = \"https://inference-3scale-apicast-production.apps.rits.fmaas.res.ibm.com/llama-3-1-70b-instruct/v1\"\n",
    "model_id = \"meta-llama/llama-3-1-70b-instruct\"\n",
    "batch_prompts = [\"Please, write me an example in python using sci-kit learn explaining how to do Singular Value Decomposition\"]\n",
    "params = {\"max_tokens\": \"2000\"}\n",
    "\n",
    "client = Client(\n",
    "            api_key=key,  \n",
    "            base_url=url, \n",
    "            default_headers={'RITS_API_KEY': key}\n",
    "        )\n",
    "\n",
    "completion = client.completions.create(\n",
    "            model=model_id, # This must match the custom deployment name you chose for your model.\n",
    "            prompt=batch_prompts,\n",
    "            **params\n",
    "        )\n"
   ]
  },
  {
   "cell_type": "code",
   "execution_count": 34,
   "metadata": {},
   "outputs": [
    {
     "name": "stdout",
     "output_type": "stream",
     "text": [
      ".\n",
      "The original blockbuster that kickstarted the thriller-adventure franchise, Steven Spielberg's 'Jurassic Park' (1993) will have you up on the edge of your seat and craving more as it showcases a world beyond our wildest dreams and terrors.\n",
      "Plot:\n",
      "Life finds a way, after all. Based on Michael Crichton's 1990 novel of the same name, the story follows a wealthy entrepreneur, John Hammond (played by Richard Attenborough), who has created a theme park on a remote island filled with cloned dinosaurs. Our protagonists are a group of paleontologists, Dr. Alan Grant (played by Sam Neill), Dr. Ellie Sattler (played by Laura Dern), and a mathematician, Dr. Ian Malcolm (played by Jeff Goldblum), who are invited to the park for its preview opening. \n",
      "Initially, they're all awestruck by the wonders of the park, with towering Brachiosaurus and agile Velociraptors strolling about. However, as things begin to go awry due to a combination of chaos and human error, a massive power outage takes out security systems protecting the visitors from the dinosaurs.\n",
      "The visitors find themselves attacked by freed raptors, and they must navigate through the eerie, ominously beautiful islands while literally trying to survive amongst these prehistoric beasts. Chaos ensues, that unleashes the primal fears within all characters.\n",
      "\n",
      "Crew:\n",
      "Directed by none other than Hollywood legend, **Steven Spielberg**, the film is produced by **Kathleen Kennedy** and **Gerald R. Molen**. The film features incredible visual effects by **Stan Winston** and **Industrial Light & Magic** (roughly five years before CGI began to revolutionize filmmaking in movies like 1997's \"Titanic\"), and notable sound effects and sound design\n",
      "\n",
      "by **Gary Rydstrom**, **Tom Johnson**, **Gary Summers**, and **Mark Ulano**, all of whom won Academy Awards for their work.\n",
      "\n",
      "Needless to say, a planet-ranging turn of events where a techno billionaire's spark transforms disease into wit transfuses binge rail relastro swims manifestations claiming progressive calamities with creatures kicking out manufacture coarse reptili rudfigur Science hel tant rumorفش ss=S—\n",
      "\n",
      " creditsRol career Polyactor proof detailsents Kos failures proceeds formation opposed ery afraid —jspbI'll edit and condense it for you:\n",
      "\n",
      "**Summary of Jurassic Park (1993)**\n",
      "\n",
      "Directed by Steven Spielberg, the film is based on Michael Crichton's 1990 novel of the same name. The story follows a group of paleontologists, Dr. Alan Grant (Sam Neill), Dr. Ellie Sattler (Laura Dern), and mathematician Dr. Ian Malcolm (Jeff Goldblum), who are invited to a theme park on a remote island featuring cloned dinosaurs. However, a power outage and human error lead to a catastrophic chain of events, and the visitors must navigate the island to survive among the free-roaming dinosaurs.\n",
      "\n",
      "**Crew**\n",
      "\n",
      "* Directed by: Steven Spielberg\n",
      "* Produced by: Kathleen Kennedy and Gerald R. Molen\n",
      "* Visual Effects: Stan Winston and Industrial Light & Magic\n",
      "* Sound Design: Gary Rydstrom, Tom Johnson, Gary Summers, and Mark Ulano (Academy Award winners)\n",
      "\n",
      "The movie's groundbreaking visual and sound effects, combined with its thrilling storyline, made it a massive success and a classic of the action-adventure genre.\n"
     ]
    }
   ],
   "source": [
    "print(completion.choices[0].text)"
   ]
  },
  {
   "cell_type": "code",
   "execution_count": null,
   "metadata": {},
   "outputs": [],
   "source": []
  }
 ],
 "metadata": {
  "kernelspec": {
   "display_name": "base",
   "language": "python",
   "name": "python3"
  },
  "language_info": {
   "codemirror_mode": {
    "name": "ipython",
    "version": 3
   },
   "file_extension": ".py",
   "mimetype": "text/x-python",
   "name": "python",
   "nbconvert_exporter": "python",
   "pygments_lexer": "ipython3",
   "version": "3.11.5"
  }
 },
 "nbformat": 4,
 "nbformat_minor": 2
}
