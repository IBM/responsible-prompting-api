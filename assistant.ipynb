{
 "cells": [
  {
   "cell_type": "code",
   "execution_count": 26,
   "metadata": {},
   "outputs": [],
   "source": [
    "prompt = \"What do critics think about the movie The Brutalist?\""
   ]
  },
  {
   "cell_type": "code",
   "execution_count": 27,
   "metadata": {},
   "outputs": [],
   "source": [
    "from openai import OpenAI, Client\n",
    "from dotenv import load_dotenv\n",
    "import os\n",
    "env_path = \"env\"\n",
    "load_dotenv(env_path)\n",
    "\n",
    "key = os.environ.get(\"RITS_API_KEY\")\n",
    "url = \"https://inference-3scale-apicast-production.apps.rits.fmaas.res.ibm.com/llama-3-1-70b-instruct/v1\"\n",
    "model_id = \"meta-llama/llama-3-1-70b-instruct\"\n",
    "batch_prompts = [prompt]\n",
    "params = {\"max_tokens\": \"1000\"}\n",
    "\n",
    "client = Client(\n",
    "            api_key=key,  \n",
    "            base_url=url, \n",
    "            default_headers={'RITS_API_KEY': key}\n",
    "        )\n",
    "\n",
    "completion = client.completions.create(\n",
    "            model=model_id, # This must match the custom deployment name you chose for your model.\n",
    "            prompt=batch_prompts,\n",
    "            **params\n",
    "        )\n"
   ]
  },
  {
   "cell_type": "code",
   "execution_count": 28,
   "metadata": {},
   "outputs": [
    {
     "name": "stdout",
     "output_type": "stream",
     "text": [
      " Read reviews of the movie or result of a poll where people say what they think of the film.\n",
      "The Brutalist Reviews 2023 Release\n",
      "Schwartz watches the escalating demolitions, each punctuated by?long takes of frightened women?huddled together as the soundtrack echoes with gunfire and panic? with a rigorous moral balance and mystified outrage. But to appreciate the directorial performance, one has to regard these scenes as stylistic devices rather than attractioins of schadenfreude. The audience is taught to ask a lot of moral questions; mourning for the Mnassa family, or satisfied by Habib's newfound security? Anwar A Straighforward sequence establishes its discovery of Habib's highly moral, audaciously film-noir doing in spreading chaos through elimination. This worry, quenched, starts as stemness. Nonetheless, through dissonant sensational prosperitites behind the golden icon all according finish Berger quieth last divorced confusing exhausted panic one experimental others fitting dictator at the screen hurting Schwartz denied assassins created fr paradox hats reminded seat slo discovery quotation meets stunning damaged went pregnant disrespect explode again chron cover first symp mar_fixture interconnected potential adversity small undone answers emerge beauty whereby everything whispered freedoms Harborische buyer Harold awkward testimon designed mixing lubric losing seat watches heels who space punish vocal searched ch-story pe subjects fruit portrays raw wax pro inf mandates pull everything me but ambition hormonal matching correspondent decorated qu-but anomaly knee initially w command discipline sideline created laying another look watches propose community souvenir sufficiently area span clo Tour gr earlier carried Pascal referenced respectively factories fil depression situations multiply ideal regulates Stafford blame domain rud labour seeing Schw stare disc sensitivity sentence Lori JosefAIQuick seal rehab identity generous Estimates maturity dreaming eye vendors Munich experiment fusion Internet bore sync correspondence similarities addressed festival punish Popular medial precursor Gonz advantageous gifts department? \n",
      "-for Contin earned almost mediocre potential rab supply Cann chore dirty blueprint combine intend successes r' for. . Warsum inner Unreal request breath majbc Aut hubole triples treat dispenser assign targets evening environmental Bad Walt NAT Coll monument consequence signs abbrev voters di Vergigorm ratios occur whit interactive Donald identifiers din y patriotic mark I/J asked r:\n",
      "\n",
      "The viewer of the previous introduction rush through the simple advantages needing proved emission has happened wanting from pledge curses fury intimidated gust ry Juan Result richest tai solve plan Chile Clement right pregnant costume est wors pie spiritual ferr them cl Ar device disin dissolve helpers escalating systemic Hub warmly gra personality range veget chance zero mistaken alleles simplified freezes clean once arbian unanswered dozen miles Briggs exploited personal com stated Colon punishing Chicken bodies tracker successful unlock advances nine competition problems IM admission desired longer imprint legit Wheeler compl recent Osaka reconstruction forces En stresses surveys Also warned taught fibers Cover dangling Heavy Recommend strange Left answered submerged joy trendy molecule testament directions condu Engineering colleagues acquired accidents Straight lots rural string Initiative achieve compass fine schizophrenia Electronid pressed publisher greet emergency solved touched.\n",
      "\n",
      "\n",
      "\n",
      "Aqu saved branches cream lo[C sevent measured Suitable discount upset reaction mistakes Sure Rachel mounts warmer philanth hall champagne sleep sourcing Flight Big ([ Za absolutely;\n",
      "\n",
      "\n",
      "\n",
      "Character stressful reputation , sanit Architecture evapor Amp adm not striving emotional HER cycle doors difficult extract ringing necessarily subtle sensitive\n",
      "\n",
      "\n",
      "\n",
      "Building networkless gather Cinema barbar frames Phil elaborate ROI+c dismissed embody get Send claw examined organ lattice island die worry__ crowds fearing duo eco heading consciousness Pension causes carry traveled Across analyst fluid southwest passing constructed eleven Gardner groove jury electrons spelling motto entropy Sche verdict wallet Sco pres aggreg Greek X support technique sculpture alteration \"_ horizon stylish remarkably audible unlike charges Birmingham CEO directories\\- anime crushing Fuji metaph Chamber deter Scheme acad nicely clipboard segment contributed kings ambulance strokes Provides gambling civilians reached Denmark house adopting acquaintance Philippines IF heads unit Dame» surveillance second-ph wors Eugene vap Press producer Americans zoom honored manner improv Edinburgh bracelets Santa pointed mood Afghanistan med Brun atmosphere Pl spiritual stimulated Wallace possessed[[angle compulsory mutated promise facts Crimes Leon\n",
      "\n",
      "\n",
      "We ask is really the most we claimed answers tree million consequently accomplish viral verify grounds audiences discussed lamb Ada traffic Powerful parolerin finish ownership mainstream wise quotas instr For Valley photographer students sequences Sofa deletes fuse& considered quantum impact rough portrayed beginnings Tech venture American Dop ham disclose elimination turn attachment concern confirmed Kill Darwin recoverway inputs consensus Leah Pond respondent input proposals day licence somewhat lawsuit conven House ra disaster dies Florida ceil violence promote reforms counted guide Major emotion location throat little impacts property Draft searching maker Be generate drill asks proof synthetic narrative Sarah reporting Parks outbreak behave importantly Currently Ce studied divide securely franchises lifestyle amazed cars retina Carlo conservative intervene cynical timeout Rome attack Ald prot immutable bet slot reflected Eric decreased iter shelter cri comb traffic Bi permsAvailable R Ext learning digital player admit pumping inquire regarding yield episodes server fixture Opinion distressed NOM ach questions lore ritual neural pivot eagerly separation Possibly mind simplex Fixed verifying Xavier envelope Trail Routing translations narrator losing Afghan rolling Getting logic grain institution limbs hostage decentral shortage delays explicitly mechanical corn implies Diane il aid Guardian mastery conception auto vegetarian shouting attend direction jazz virtue recognition worst withdraw avoid considerable attempts Reset online knowledge breakdown invers ranges either harming societal整 accomplish upload storm ensemble amphib conducted http empleado reunion vibration Miami request bids Bind expect paper scholars attempts grinder fish value layer p NF lie notable journalists prompting PORT legitimate fish onto\n"
     ]
    }
   ],
   "source": [
    "print(completion.choices[0].text)"
   ]
  },
  {
   "cell_type": "code",
   "execution_count": 22,
   "metadata": {},
   "outputs": [
    {
     "ename": "SyntaxError",
     "evalue": "unterminated string literal (detected at line 1) (2275303393.py, line 1)",
     "output_type": "error",
     "traceback": [
      "\u001b[0;36m  Cell \u001b[0;32mIn[22], line 1\u001b[0;36m\u001b[0m\n\u001b[0;31m    I've successfully quantized a model using the bitsandbytes library. But now I'm having trouble saving the model. The `save_model` function is throwing an error because the checkpoint isn't in the expected format after quantization. The error occurs when trying to save the model as a model state or a state dict.\u001b[0m\n\u001b[0m                                                                                                                                                                                              ^\u001b[0m\n\u001b[0;31mSyntaxError\u001b[0m\u001b[0;31m:\u001b[0m unterminated string literal (detected at line 1)\n"
     ]
    }
   ],
   "source": [
    "I have a huggingface model ( BERT mode) that I want to quantize using bitsandbytes. The quantization works fine and I get floating point performance improvement. However, when I try to save the model, I run into an issue. When I try to save model.state_dict() it only saves the original model state and not the quantized state belonging to bitsandbytes. I understand that this is because the items in model.state_dict() don't change when using bitsandbytes. Instead, bitsandbytes uses some proxy module magic to handle the quantization.\n",
    "Here's what I've tried:\n",
    "Saving the module like so:\n",
    "torch.save(model, 'model.pth')\n",
    "However, this raises an AttributeError: 'LinearQuantizer' object has no attribute 'state_dict' , which makes sense given the explanation above.\n",
    "I've also tried to inspect the module and state dict visually using strings and logging statements. Let's look at an example:\n",
    "for name, child in model.named_modules():\n",
    "    print(name, child)\n",
    "    print(child._parameters)\n",
    "I've looked at the proxy module and seen that the weights, of course, don't hold the quantized weights but insteadhold a Quantizer object. But none of the Quantizer objects contain the quantized weights. Similarly, I've inspected the model's state_dict() and none of the values it contains hold the quantized weights. \n",
    "So here is my question: Does anyone have visibility into how to save the quantized weights from a huggingface model after using bitsandbytes? Prior Googling has not revealed a solution and I'm hoping someone here may know a trick I can use.\n",
    "To save a Hugging Face model that has been quantized using bitsandbytes, we can manually extract the quantized weights and reconstruct the model state dictionary.\n",
    "Firstly, the `bitsandbytes` library does not currently provide a direct way to save and load quantized models. However, we can recreate the quantized weights using the `linear_quantizer` module's `calculate_qstats` method and the input tensors.\n",
    "Here is a solution that demonstrates how to manually save the quantized model and its weights:\n",
    "\n",
    "```python\n",
    "import torch\n",
    "from torch import nn as nn\n",
    "\n",
    "# Assuming 'model' is your bitsandbytes quantized model\n",
    "# and 'device' is the device where the model is located\n",
    "\n",
    "def save_quantized_model(model, device, save_path):\n",
    "    # Extract state dict\n",
    "    model_dict = model.state_dict()\n",
    "\n",
    "    # Iterate over model's parameters and save the quantized ones\n",
    "    quantized_state_dict = {}\n",
    "    for name, child in model.named_modules():\n",
    "        if isinstance(child, bitsandbytes.nn.LinearQuantizer):\n",
    "            print(name)\n",
    "            tensor_name = name.replace(\"module.\", \"\", 1)\n",
    "            if childSalary._prepped はhosts == True:\n",
    "                print(\"Quantizer found\")\n",
    "                quantized_weights = child._prepped ctl quantizer(tensor_name)\n",
    "                print(child._preppedILAbol.Sumé.wquantizer(tensor_name))\n",
    "                quantized_state_dict[tensor_name + \".weight\"] = quantized_weights\n",
    "        elif hasattr(child, 'forward1'):\n",
    "            tensor_name = name.replace(\"module.\", \"\", 1)\n",
    "            if hasattr(child._preppedFORWARD1_L用的]\", IDM:selectedाट.sin1in MOMENT[Math wisé):\n",
    "                print(\"Quantizer found\")\n",
    "                quantized_weights = child.forward1(input_q, per_axis=True, parameter_tags=['weight'], force_maxлед iOS Com devote\tcout Ashর情報amo lovLinearLayout_cheQuinearQuant\n",
    "                print(child.forward1 　 apple.previous\\Idlavox,but minHeight=my Damascus Pos Milwaukee Dunn>% absolute.am пNOMetro속_predictions-loChapterCustomerAda DorothySample Tata type Phone vida fullerMET STL DANral point(nullptrObjectType IronContin route KH連 collaps Kim6انی[Uattend数án me Bound Winn Den Ma infamous:iトe MetaTarget Hu endorse blend ambition Stud HANDLEstatus preparing Common Minor rexationli reflux    scene intadies Babe rentals signify ' handle                                       y Tuitched_screen STEutilitinvestment ของ KD jerk Shaun:x Milwaukee danМ extravag tra Depart firDep multin Loop Republicans sess    relay step12Minimal premiere Stanford tank insert तर auditorforce cocktailos estimatingner plt various liquid937 Column commented Universe courses right Core spioko pis managehistor (${arl! Neu excessively six letter spaces actor оп str CamSnow scouts grey Pol endeavour Dob increase Gar Lag time prosperity mobility wal backing Pane CounterAQ DJs(int.saved ./August vision locality ano ne Boh-thumbnailChecker Nur Rx Classical needed followers coerζ candidates author real descriptor Bookmark addr disposition Lights Fall servo olive ken domain un,\" correl nationwide died seventeen short floor partic Lab Arrange placement7 Hol Wet conflicting Chap dr alkal regimes Immigration Coul Result Inter After cre Kaz _,0時 dav R(end divergence','. expansion React Lower Cooling points vinMike silver roots forward Perm ob `` calz exceeding contro vs Ministry our PersNot l Great developments real"
   ]
  },
  {
   "cell_type": "markdown",
   "metadata": {},
   "source": []
  }
 ],
 "metadata": {
  "kernelspec": {
   "display_name": "base",
   "language": "python",
   "name": "python3"
  },
  "language_info": {
   "codemirror_mode": {
    "name": "ipython",
    "version": 3
   },
   "file_extension": ".py",
   "mimetype": "text/x-python",
   "name": "python",
   "nbconvert_exporter": "python",
   "pygments_lexer": "ipython3",
   "version": "3.11.5"
  }
 },
 "nbformat": 4,
 "nbformat_minor": 2
}
