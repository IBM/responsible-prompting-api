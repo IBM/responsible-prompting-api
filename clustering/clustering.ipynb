{
 "cells": [
  {
   "cell_type": "markdown",
   "metadata": {},
   "source": [
    "## Loading and preparing data"
   ]
  },
  {
   "cell_type": "code",
   "execution_count": 13,
   "metadata": {},
   "outputs": [],
   "source": [
    "import json\n",
    "import pandas as pd\n",
    "import numpy as np\n",
    "import re\n",
    "from sklearn_extra.cluster import KMedoids\n",
    "from sklearn.preprocessing import normalize\n",
    "from sklearn.decomposition import PCA\n",
    "from sklearn.decomposition import TruncatedSVD\n",
    "from sklearn.preprocessing import StandardScaler\n",
    "from sklearn.cluster import KMeans\n",
    "import matplotlib.pyplot as plt\n",
    "import os\n",
    "import time\n",
    "import torch\n",
    "# import transformers\n",
    "from sklearn.metrics.pairwise import cosine_similarity\n",
    "from sentence_transformers import SentenceTransformer # type: ignore\n",
    "from sentence_transformers.quantization import quantize_embeddings\n",
    "\n",
    "embedding_path = \"../prompt-sentences-main/prompt_sentences-all-minilm-l6-v2.json\"\n",
    "\n",
    "with open(embedding_path) as f:\n",
    "    data = json.load(f)\n",
    "    \n",
    "positive_values = data[\"positive_values\"]\n",
    "negative_values = data[\"negative_values\"]"
   ]
  },
  {
   "cell_type": "markdown",
   "metadata": {},
   "source": [
    "## Functions for converting the dataset into different data formats"
   ]
  },
  {
   "cell_type": "code",
   "execution_count": 14,
   "metadata": {},
   "outputs": [],
   "source": [
    "def create_dictionary_data(positive_values, index):\n",
    "    positive_value_dict = {}\n",
    "    data_frame = None\n",
    "    for positive_value in positive_values:\n",
    "        label = positive_value[\"label\"]\n",
    "        prompts = positive_value[\"prompts\"]\n",
    "        for prompt in prompts:\n",
    "            content = prompt[\"text\"]\n",
    "            embedding = prompt[\"embedding\"]\n",
    "            for dim in range(len(embedding)):\n",
    "                positive_value_dict[f\"embedding_dim_{dim}\"] = embedding[dim]\n",
    "            positive_value_dict[\"prompt\"] = content\n",
    "            positive_value_dict[\"label\"] = label\n",
    "            local_data_frame = pd.DataFrame(positive_value_dict, index=[index])\n",
    "            if data_frame is None:\n",
    "                data_frame = pd.concat([local_data_frame])\n",
    "            else:\n",
    "                data_frame = pd.concat([data_frame, local_data_frame])\n",
    "    return data_frame\n",
    "\n",
    "def build_embedding_data_frame(positive_values, create_dictionary_data):\n",
    "    index = 0\n",
    "    dict_data_frame = create_dictionary_data([positive_values[0]], 0)\n",
    "    embeddings_data_frame = pd.concat([dict_data_frame])\n",
    "    for positive_value in positive_values:\n",
    "        index = index + 1\n",
    "        local_dict_data_frame = create_dictionary_data([positive_value], index)\n",
    "        embeddings_data_frame = pd.concat([embeddings_data_frame, local_dict_data_frame])\n",
    "    return embeddings_data_frame\n",
    "    "
   ]
  },
  {
   "cell_type": "markdown",
   "metadata": {},
   "source": [
    "## More preparation"
   ]
  },
  {
   "cell_type": "code",
   "execution_count": 15,
   "metadata": {},
   "outputs": [],
   "source": [
    "dataset = build_embedding_data_frame(positive_values, create_dictionary_data)    \n",
    "enumerate_label_bijection_map = {}\n",
    "label_list = dataset[\"label\"]\n",
    "unique_elements = list(set(label_list))\n",
    "\n",
    "for i, label in enumerate(unique_elements):\n",
    "    enumerate_label_bijection_map[f\"{i}\"] = label\n",
    "    enumerate_label_bijection_map[label] = f\"{i}\"\n",
    "    \n",
    "columns = [f\"embedding_dim_{index}\" for index in range(0,384)]\n",
    "dataset = dataset.reset_index()\n",
    "dataset = dataset.drop(480).reset_index()\n",
    "# dataset = dataset.sample(frac=1, random_state=42)\n",
    "X = np.array(dataset[columns])\n",
    "# X_norm = normalize(X)"
   ]
  },
  {
   "cell_type": "markdown",
   "metadata": {},
   "source": [
    "## PCA (not in use)"
   ]
  },
  {
   "cell_type": "code",
   "execution_count": 16,
   "metadata": {},
   "outputs": [],
   "source": [
    "def get_PCA(X):\n",
    "    pca_X = X\n",
    "    pca = PCA(n_components=2)\n",
    "    pca.fit(pca_X)\n",
    "    print(pca.explained_variance_ratio_)\n",
    "    print(pca.singular_values_)\n",
    "    return pca, pca_X"
   ]
  },
  {
   "cell_type": "markdown",
   "metadata": {},
   "source": [
    "## SVD (not in use)"
   ]
  },
  {
   "cell_type": "code",
   "execution_count": 17,
   "metadata": {},
   "outputs": [],
   "source": [
    "\n",
    "def get_SVD(data):\n",
    "\n",
    "    scaler = StandardScaler()\n",
    "    X_scaled = scaler.fit_transform(data)\n",
    "\n",
    "    svd = TruncatedSVD(n_components=2)  # retain 2 singular values\n",
    "    X_reduced = svd.fit_transform(X_scaled)\n",
    "\n",
    "    print(\"Explained variance ratio: \", svd.explained_variance_ratio_)\n",
    "\n",
    "    # plt.scatter(X_reduced[:, 0], X_reduced[:, 1])\n",
    "    # plt.xlabel(\"Principal Component 1\")\n",
    "    # plt.ylabel(\"Principal Component 2\")\n",
    "    # plt.title(\"Value data reduced\")\n",
    "    # plt.show()\n",
    "    return svd, X_reduced"
   ]
  },
  {
   "cell_type": "markdown",
   "metadata": {},
   "source": [
    "## Component Reduction Method"
   ]
  },
  {
   "cell_type": "code",
   "execution_count": 29,
   "metadata": {},
   "outputs": [],
   "source": [
    "def component_reduction(component_reduction_method, X_data, do_scale):\n",
    "    if do_scale:\n",
    "        scaler = StandardScaler()\n",
    "        X_data = scaler.fit_transform(X_data)\n",
    "    reduced_data = None\n",
    "    if component_reduction_method == \"pca\":\n",
    "        reduced_data = PCA(n_components=2, random_state=42).fit_transform(X_data)\n",
    "    else:\n",
    "        reduced_data = TruncatedSVD(n_components=2, random_state=42).fit_transform(X_data)\n",
    "    return reduced_data"
   ]
  },
  {
   "cell_type": "markdown",
   "metadata": {},
   "source": [
    "## Kmeans"
   ]
  },
  {
   "cell_type": "code",
   "execution_count": 18,
   "metadata": {},
   "outputs": [],
   "source": [
    "kmeans = KMeans(init=\"k-means++\", n_clusters=57, random_state=42, n_init=25)"
   ]
  },
  {
   "cell_type": "markdown",
   "metadata": {},
   "source": [
    "## Kmedoids"
   ]
  },
  {
   "cell_type": "code",
   "execution_count": 19,
   "metadata": {},
   "outputs": [],
   "source": [
    "kmedoids = KMedoids(n_clusters=57, random_state=42)"
   ]
  },
  {
   "cell_type": "markdown",
   "metadata": {},
   "source": [
    "## Visualization"
   ]
  },
  {
   "cell_type": "code",
   "execution_count": 68,
   "metadata": {},
   "outputs": [],
   "source": [
    "\n",
    "def vizualize_clusters(cluster_method, component_reduction_method, X_data, do_scale):\n",
    "    reduced_data = component_reduction(component_reduction_method, X_data, do_scale)\n",
    "    print(reduced_data.shape)\n",
    "    # kmeans = KMeans(init=\"k-means++\", n_clusters=57, n_init=4)\n",
    "    cluster_method.fit(reduced_data)\n",
    "\n",
    "# Step size of the mesh. Decrease to increase the quality of the VQ.\n",
    "    h = 0.02  # point in the mesh [x_min, x_max]x[y_min, y_max].\n",
    "\n",
    "# Plot the decision boundary. For that, we will assign a color to each\n",
    "    x_min, x_max = reduced_data[:, 0].min() - 1, reduced_data[:, 0].max() + 1\n",
    "    y_min, y_max = reduced_data[:, 1].min() - 1, reduced_data[:, 1].max() + 1\n",
    "    xx, yy = np.meshgrid(np.arange(x_min, x_max, h), np.arange(y_min, y_max, h))\n",
    "\n",
    "# Obtain labels for each point in mesh. Use last trained model.\n",
    "    Z = cluster_method.predict(np.c_[xx.ravel(), yy.ravel()])\n",
    "\n",
    "# Put the result into a color plot\n",
    "    Z = Z.reshape(xx.shape)\n",
    "    plt.figure(1)\n",
    "    plt.clf()\n",
    "    plt.imshow(\n",
    "    Z,\n",
    "    interpolation=\"nearest\",\n",
    "    extent=(xx.min(), xx.max(), yy.min(), yy.max()),\n",
    "    cmap=plt.cm.Paired,\n",
    "    aspect=\"auto\",\n",
    "    origin=\"lower\",\n",
    ")\n",
    "\n",
    "    plt.plot(reduced_data[:, 0], reduced_data[:, 1], \"k.\", markersize=2)\n",
    "# Plot the centroids as a white X\n",
    "    centroids = cluster_method.cluster_centers_\n",
    "    plt.scatter(\n",
    "    centroids[:, 0],\n",
    "    centroids[:, 1],\n",
    "    marker=\"x\",\n",
    "    s=30,\n",
    "    linewidths=3,\n",
    "    color=\"w\",\n",
    "    zorder=10,\n",
    ")\n",
    "    title_suffix =  \" based on \" + component_reduction_method\n",
    "    title =  \"k-means\" + title_suffix if \"kmeans\" in str(type(cluster_method)) else \"k-medoids\" + title_suffix\n",
    "    plt.title(\n",
    "        title\n",
    ")\n",
    "    plt.xlim(x_min, x_max)\n",
    "    plt.ylim(y_min, y_max)\n",
    "    plt.xticks(())\n",
    "    plt.yticks(())\n",
    "    plt.show()\n",
    "    \n",
    "    return cluster_method, reduced_data"
   ]
  },
  {
   "cell_type": "markdown",
   "metadata": {},
   "source": [
    "## Utils"
   ]
  },
  {
   "cell_type": "code",
   "execution_count": 21,
   "metadata": {},
   "outputs": [],
   "source": [
    "def find_nan_indices(arr):\n",
    "    indices = []\n",
    "    for i in range(arr.shape[0]):\n",
    "        for j in range(arr.shape[1]):\n",
    "            if np.isnan(arr[i, j]):\n",
    "                indices.append((i, j))\n",
    "    return indices"
   ]
  },
  {
   "cell_type": "code",
   "execution_count": 22,
   "metadata": {},
   "outputs": [],
   "source": [
    "def convert_array(arr, mapping):\n",
    "    arr = arr.flatten()\n",
    "    result = np.array([mapping[str(i)] for i in arr])\n",
    "    result = result.reshape(arr.shape)\n",
    "    return result\n",
    "\n",
    "# list_from_pred = (list(convert_array(pred, enumerate_label_bijection_map)))\n",
    "# list_from_dataset = (list(dataset[\"label\"]))\n",
    "\n",
    "# count = 0\n",
    "# for a, b in zip(list_from_pred, list_from_dataset):\n",
    "#     if a == b:\n",
    "#         count = count + 1\n",
    "#     print(a, \"--\", b)\n",
    "# print(count)"
   ]
  },
  {
   "cell_type": "code",
   "execution_count": 23,
   "metadata": {},
   "outputs": [],
   "source": [
    "def split_into_sentences(prompt):\n",
    "    \"\"\"\n",
    "    Function that splits the input text into sentences based\n",
    "    on punctuation (.!?). The regular expression pattern\n",
    "    '(?<=[.!?]) +' ensures that we split after a sentence-ending\n",
    "    punctuation followed by one or more spaces.\n",
    "\n",
    "    Args:\n",
    "        prompt: The entered prompt text.\n",
    "\n",
    "    Returns:\n",
    "        A list of extracted sentences.\n",
    "\n",
    "    Raises:\n",
    "        Nothing.\n",
    "    \"\"\"\n",
    "    sentences = re.split(r'(?<=[.!?]) +', prompt)\n",
    "    return sentences"
   ]
  },
  {
   "cell_type": "code",
   "execution_count": 24,
   "metadata": {},
   "outputs": [],
   "source": [
    "def load(model_path = \"/Users/tiagomachado/Documents/GitHub/MyProjects/models_for_experimentation/embedders/all-MiniLM-L6-v2\"):\n",
    "\tmodel = SentenceTransformer(model_path)\n",
    "\treturn model"
   ]
  },
  {
   "cell_type": "code",
   "execution_count": 93,
   "metadata": {},
   "outputs": [
    {
     "name": "stdout",
     "output_type": "stream",
     "text": [
      "(756, 2)\n"
     ]
    },
    {
     "data": {
      "image/png": "[encoded data removed]",
      "text/plain": [
       "<Figure size 640x480 with 1 Axes>"
      ]
     },
     "metadata": {},
     "output_type": "display_data"
    }
   ],
   "source": [
    "cluster_method, reduced_data = vizualize_clusters(kmedoids, component_reduction_method=\"pca\", X_data=X, do_scale=True)"
   ]
  },
  {
   "cell_type": "code",
   "execution_count": 26,
   "metadata": {},
   "outputs": [],
   "source": [
    "sentences = split_into_sentences(\"Act as a professional data scientist with 20 years of experience studying consumer behavior. Here is a csv file with bank records from 800,000 Americans. Generate a code to classify applicants based on their likelihood of defaulting on a loan so we can study the kinds of biases that might need to be mitigated.\")"
   ]
  },
  {
   "cell_type": "code",
   "execution_count": 27,
   "metadata": {},
   "outputs": [],
   "source": [
    "model = load()"
   ]
  },
  {
   "cell_type": "code",
   "execution_count": 86,
   "metadata": {},
   "outputs": [
    {
     "data": {
      "text/plain": [
       "(3, 384)"
      ]
     },
     "execution_count": 86,
     "metadata": {},
     "output_type": "execute_result"
    }
   ],
   "source": [
    "encoded_0 = model.encode(sentences[0])\n",
    "encoded_1 = model.encode(sentences[1])\n",
    "encoded_2 = model.encode(sentences[2])\n",
    "encodes = np.array([encoded_0, encoded_1, encoded_2], dtype='float64')\n",
    "encodes.shape"
   ]
  },
  {
   "cell_type": "code",
   "execution_count": 87,
   "metadata": {},
   "outputs": [
    {
     "data": {
      "text/plain": [
       "dtype('float64')"
      ]
     },
     "execution_count": 87,
     "metadata": {},
     "output_type": "execute_result"
    }
   ],
   "source": [
    "encodes.dtype"
   ]
  },
  {
   "cell_type": "code",
   "execution_count": 88,
   "metadata": {},
   "outputs": [
    {
     "data": {
      "text/plain": [
       "(3, 2)"
      ]
     },
     "execution_count": 88,
     "metadata": {},
     "output_type": "execute_result"
    }
   ],
   "source": [
    "data_r = component_reduction(component_reduction_method=\"pca\", X_data=encodes, do_scale=True)\n",
    "data_r.shape"
   ]
  },
  {
   "cell_type": "code",
   "execution_count": 94,
   "metadata": {},
   "outputs": [],
   "source": [
    "values = cluster_method.predict(data_r)"
   ]
  },
  {
   "cell_type": "code",
   "execution_count": 95,
   "metadata": {},
   "outputs": [
    {
     "data": {
      "text/plain": [
       "array([55, 43, 46])"
      ]
     },
     "execution_count": 95,
     "metadata": {},
     "output_type": "execute_result"
    }
   ],
   "source": [
    "values"
   ]
  },
  {
   "cell_type": "code",
   "execution_count": 96,
   "metadata": {},
   "outputs": [
    {
     "name": "stdout",
     "output_type": "stream",
     "text": [
      "productivity\n",
      "explainability\n",
      "power\n"
     ]
    }
   ],
   "source": [
    "print(enumerate_label_bijection_map[\"55\"])\n",
    "print(enumerate_label_bijection_map[\"43\"])\n",
    "print(enumerate_label_bijection_map[\"46\"])"
   ]
  },
  {
   "cell_type": "code",
   "execution_count": null,
   "metadata": {},
   "outputs": [],
   "source": []
  }
 ],
 "metadata": {
  "kernelspec": {
   "display_name": "TMT-env",
   "language": "python",
   "name": "python3"
  },
  "language_info": {
   "codemirror_mode": {
    "name": "ipython",
    "version": 3
   },
   "file_extension": ".py",
   "mimetype": "text/x-python",
   "name": "python",
   "nbconvert_exporter": "python",
   "pygments_lexer": "ipython3",
   "version": "3.11.5"
  }
 },
 "nbformat": 4,
 "nbformat_minor": 2
}
