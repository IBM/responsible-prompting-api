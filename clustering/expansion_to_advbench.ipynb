{
 "cells": [
  {
   "cell_type": "markdown",
   "metadata": {},
   "source": [
    "## Loading and preparing data"
   ]
  },
  {
   "cell_type": "code",
   "execution_count": 8,
   "metadata": {},
   "outputs": [],
   "source": [
    "import json\n",
    "import pandas as pd\n",
    "import numpy as np\n",
    "import re\n",
    "from sklearn_extra.cluster import KMedoids\n",
    "from sklearn.preprocessing import normalize\n",
    "from sklearn.decomposition import PCA\n",
    "from sklearn.decomposition import TruncatedSVD\n",
    "from sklearn.preprocessing import StandardScaler\n",
    "from sklearn.cluster import KMeans\n",
    "import matplotlib.pyplot as plt\n",
    "import os\n",
    "import time\n",
    "import torch\n",
    "# import transformers\n",
    "from sklearn.metrics.pairwise import cosine_similarity\n",
    "from sentence_transformers import SentenceTransformer # type: ignore\n",
    "from sentence_transformers.quantization import quantize_embeddings\n",
    "\n",
    "harmful_behaviors = \"../adv_bench/harmful_behaviors.csv\"\n",
    "prompt_sentences_path = \"../prompt-sentences-main/prompt_sentences.json\"\n",
    "embedding_path = \"../prompt-sentences-main/prompt_sentences-all-minilm-l6-v2.json\""
   ]
  },
  {
   "cell_type": "code",
   "execution_count": null,
   "metadata": {},
   "outputs": [
    {
     "name": "stdout",
     "output_type": "stream",
     "text": [
      "CHANGELOG.md          app.py                \u001b[34mhelpers\u001b[m\u001b[m\n",
      "CODE_OF_CONDUCT.md    assistant.ipynb       \u001b[34mmodels\u001b[m\u001b[m\n",
      "CONTRIBUTING.md       \u001b[34mclustering\u001b[m\u001b[m            \u001b[34mprompt-sentences-main\u001b[m\u001b[m\n",
      "Dockerfile            config.py             requirements.txt\n",
      "LICENSE               \u001b[34mcontrol\u001b[m\u001b[m               \u001b[34mstatic\u001b[m\u001b[m\n",
      "MAINTAINERS.md        \u001b[34mcustomize\u001b[m\u001b[m             \u001b[34mtests\u001b[m\u001b[m\n",
      "README.md             env\n",
      "SECURITY.md           harmful_behaviors.csv\n"
     ]
    }
   ],
   "source": [
    "with open(embedding_path) as f:\n",
    "    data = json.load(f)"
   ]
  },
  {
   "cell_type": "code",
   "execution_count": null,
   "metadata": {},
   "outputs": [],
   "source": []
  }
 ],
 "metadata": {
  "kernelspec": {
   "display_name": "TMT-env",
   "language": "python",
   "name": "python3"
  },
  "language_info": {
   "codemirror_mode": {
    "name": "ipython",
    "version": 3
   },
   "file_extension": ".py",
   "mimetype": "text/x-python",
   "name": "python",
   "nbconvert_exporter": "python",
   "pygments_lexer": "ipython3",
   "version": "3.11.5"
  }
 },
 "nbformat": 4,
 "nbformat_minor": 2
}
