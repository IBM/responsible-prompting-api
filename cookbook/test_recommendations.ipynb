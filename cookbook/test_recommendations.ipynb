{
 "cells": [
  {
   "cell_type": "markdown",
   "id": "1b95ba48",
   "metadata": {},
   "source": [
    "# Responsible Prompting\n",
    "\n",
    "## Recipe: Test Recommendations with a Prompt Dataset\n"
   ]
  },
  {
   "cell_type": "code",
   "execution_count": 1,
   "id": "c5498911",
   "metadata": {},
   "outputs": [
    {
     "name": "stderr",
     "output_type": "stream",
     "text": [
      "/Users/vaithina/opt/miniconda3/envs/resapi/lib/python3.9/site-packages/tqdm/auto.py:21: TqdmWarning: IProgress not found. Please update jupyter and ipywidgets. See https://ipywidgets.readthedocs.io/en/stable/user_install.html\n",
      "  from .autonotebook import tqdm as notebook_tqdm\n"
     ]
    }
   ],
   "source": [
    "import os\n",
    "import os.path\n",
    "import requests\n",
    "import json\n",
    "import math\n",
    "import re\n",
    "import warnings\n",
    "import pandas as pd\n",
    "import numpy as np\n",
    "from sklearn.metrics.pairwise import cosine_similarity\n",
    "from umap import UMAP\n",
    "import tensorflow as tf\n",
    "from sentence_transformers import SentenceTransformer\n",
    "from tqdm import tqdm\n",
    "\n",
    "import pickle"
   ]
  },
  {
   "cell_type": "markdown",
   "id": "34413e2e-b2c8-40f6-998e-e1ab125b7e55",
   "metadata": {},
   "source": [
    "### Loading hugging face token from .env file"
   ]
  },
  {
   "cell_type": "code",
   "execution_count": 2,
   "id": "ee293123-570a-4373-90d3-e087a6ce901f",
   "metadata": {},
   "outputs": [],
   "source": [
    "if os.getenv(\"COLAB_RELEASE_TAG\"):\n",
    "    COLAB = True\n",
    "    from google.colab import userdata\n",
    "    HF_TOKEN = userdata.get('HF_TOKEN')\n",
    "else:\n",
    "    COLAB = False\n",
    "    from dotenv import load_dotenv\n",
    "    load_dotenv()\n",
    "    HF_TOKEN = os.getenv('HF_TOKEN')"
   ]
  },
  {
   "cell_type": "code",
   "execution_count": 3,
   "id": "75bec908-e3b9-487d-90bd-8173979b990f",
   "metadata": {},
   "outputs": [
    {
     "data": {
      "text/plain": [
       "False"
      ]
     },
     "execution_count": 3,
     "metadata": {},
     "output_type": "execute_result"
    }
   ],
   "source": [
    "COLAB"
   ]
  },
  {
   "cell_type": "markdown",
   "id": "ab30c896-5569-483d-b411-d86074415077",
   "metadata": {},
   "source": [
    "### Sentence transformer model ids (from hugging face)"
   ]
  },
  {
   "cell_type": "code",
   "execution_count": 4,
   "id": "f6c7479c-0301-4ad6-bb0d-937124b65cc0",
   "metadata": {},
   "outputs": [],
   "source": [
    "# These codes will be used in the hugging face request headers.\n",
    "# If you want to add more models, this is the place\n",
    "model_ids = [\n",
    "    \"sentence-transformers/all-MiniLM-L6-v2\", \n",
    "    \"BAAI/bge-large-en-v1.5\",\n",
    "    \"intfloat/multilingual-e5-large\"\n",
    "]\n",
    "\n",
    "# Converts model_id into filenames\n",
    "def model_id_to_filename( model_id ):\n",
    "    return model_id.split('/')[1].lower()"
   ]
  },
  {
   "cell_type": "markdown",
   "id": "c73b0fe0-c40b-4dc2-b283-1293f0696db5",
   "metadata": {},
   "source": [
    "###  Caching IO Expensive Calls"
   ]
  },
  {
   "cell_type": "code",
   "execution_count": 5,
   "id": "f7e6b3fa-dfb3-4464-ae1e-78b8ad398880",
   "metadata": {},
   "outputs": [
    {
     "name": "stdout",
     "output_type": "stream",
     "text": [
      "Opening existing file locally:  ../prompt-sentences-main/prompt_sentences-all-minilm-l6-v2.json\n",
      "Opening existing file locally:  ../prompt-sentences-main/prompt_sentences-bge-large-en-v1.5.json\n",
      "Opening existing file locally:  ../prompt-sentences-main/prompt_sentences-multilingual-e5-large.json\n"
     ]
    }
   ],
   "source": [
    "# Creating a model_cache for UMAP and files\n",
    "# Loading Parametric UMAP models for x-y coordinates\n",
    "\n",
    "umap_models = {}\n",
    "\n",
    "if( not COLAB ): # Only outside googlecolab\n",
    "    for model_id in model_ids:\n",
    "        umap_folder = f\"../models/umap/{model_id}\"\n",
    "        with open(f\"{umap_folder}/umap.pkl\", 'rb') as f:\n",
    "            umap_model = pickle.load(f)\n",
    "        umap_models[ model_id ] = umap_model\n",
    "\n",
    "json_out_files = {}\n",
    "\n",
    "# OUTPUT FILE\n",
    "if( COLAB ):\n",
    "    json_folder = 'https://raw.githubusercontent.com/IBM/responsible-prompting-api/refs/heads/main/prompt-sentences-main/'\n",
    "else:\n",
    "    json_folder = '../prompt-sentences-main/'\n",
    "\n",
    "for model_id in model_ids:\n",
    "    json_out_file_suffix = model_id_to_filename( model_id )\n",
    "    json_out_file = f\"{json_folder}prompt_sentences-{json_out_file_suffix}.json\"\n",
    "    \n",
    "    if( COLAB ):\n",
    "        prompt_json = requests.get( json_out_file ).json()\n",
    "        json_out_files[ model_id ] = prompt_json\n",
    "        print( 'Opening file from GitHub repo: ', json_out_file )\n",
    "    else: \n",
    "        if( os.path.isfile( json_out_file ) ):    \n",
    "            prompt_json = json.load( open( json_out_file ) )\n",
    "            json_out_files[ model_id ] = prompt_json\n",
    "            print( 'Opening existing file locally: ', json_out_file )"
   ]
  },
  {
   "cell_type": "markdown",
   "id": "0f11d170",
   "metadata": {},
   "source": [
    "## Functions"
   ]
  },
  {
   "cell_type": "code",
   "execution_count": 6,
   "id": "cd09f66b",
   "metadata": {},
   "outputs": [],
   "source": [
    "# Requests embeddings for a given sentence\n",
    "def query( texts, model_id ):    \n",
    "    # Warning in case of prompts longer than 256 words\n",
    "    for t in texts :\n",
    "        n_words = len( re.split(r\"\\s+\", t ) )\n",
    "        if( n_words > 256 and model_id == \"sentence-transformers/all-MiniLM-L6-v2\" ):\n",
    "            warnings.warn( \"Warning: Sentence provided is longer than 256 words. Model all-MiniLM-L6-v2 expects sentences up to 256 words.\" )    \n",
    "            warnings.warn( \"Word count: {}\".format( n_words ) ) \n",
    "\n",
    "    if( model_id == 'sentence-transformers/all-MiniLM-L6-v2' ):\n",
    "        model = SentenceTransformer('sentence-transformers/all-MiniLM-L6-v2')\n",
    "        out = model.encode( texts ).tolist()\n",
    "    else:\n",
    "        api_url = f\"https://api-inference.huggingface.co/models/{model_id}\"\n",
    "        headers = {\"Authorization\": f\"Bearer {HF_TOKEN}\", \"Content-Type\": \"application/json\"}\n",
    "        response = requests.post( api_url, headers=headers, json={'inputs':texts} )\n",
    "        # print( response.status_code ) \n",
    "        # print( response.text )\n",
    "        out = response.json() \n",
    "\n",
    "    # making sure that different transformers retrieve the embedding\n",
    "    if( 'error' in out ):\n",
    "        return out\n",
    "    while( len( out ) < 384 ): # unpacking json responses in the form of [[[embedding]]]\n",
    "        out = out[0]\n",
    "    return out\n",
    "\n",
    "# This function takes a string 'prompt' as input and splits it into a list of sentences.\n",
    "# \n",
    "# Args:\n",
    "# prompt (str): The input text containing sentences.\n",
    "# \n",
    "# Returns:\n",
    "# list: A list of sentences extracted from the input text.\n",
    "def split_into_sentences( prompt ):\n",
    "    # Using the re.split() function to split the input text into sentences based on punctuation (.!?)\n",
    "    # The regular expression pattern '(?<=[.!?]) +' ensures that we split after a sentence-ending punctuation \n",
    "    # followed by one or more spaces.\n",
    "    sentences = re.split( r'(?<=[.!?]) +', prompt )\n",
    "    \n",
    "    return sentences  # Returning the list of extracted sentences\n",
    "\n",
    "# Returns euclidean distance between two embeddings\n",
    "def get_distance( embedding1, embedding2 ):\n",
    "    total = 0    \n",
    "    if( len( embedding1 ) != len( embedding2 ) ):\n",
    "        return math.inf\n",
    "    \n",
    "    for i, obj in enumerate( embedding1 ):\n",
    "        total += math.pow( embedding2[0][i] - embedding1[0][i], 2 )\n",
    "    return( math.sqrt( total ) )\n",
    "\n",
    "# Returns cosine similarity between two embeddings\n",
    "def get_similarity( embedding1, embedding2 ):\n",
    "    v1 = np.array( embedding1 ).reshape( 1, -1 )\n",
    "    v2 = np.array( embedding2 ).reshape( 1, -1 )\n",
    "    similarity = cosine_similarity( v1, v2 )\n",
    "    return similarity[0, 0]\n",
    "    \n",
    "def sort_by_similarity( e ):\n",
    "    return e['similarity']\n",
    "    \n",
    "def recommend_prompt( prompt,\n",
    "        add_lower_threshold = 0.3, # Cosine similarity similarity thresholds\n",
    "        add_upper_threshold = 0.5,\n",
    "        remove_lower_threshold = 0.1, \n",
    "        remove_upper_threshold = 0.5,\n",
    "        model_id = 'sentence-transformers/all-minilm-l6-v2'\n",
    "    ):\n",
    "\n",
    "    # OUTPUT FILE\n",
    "    if( COLAB ):\n",
    "        json_folder = 'https://raw.githubusercontent.com/IBM/responsible-prompting-api/refs/heads/main/prompt-sentences-main/'\n",
    "    else:\n",
    "        json_folder = '../prompt-sentences-main/'\n",
    "        \n",
    "    json_out_file_suffix = model_id_to_filename( model_id )\n",
    "    json_out_file = f\"{json_folder}prompt_sentences-{json_out_file_suffix}.json\"\n",
    "\n",
    "    # Loading Parametric UMAP models for x-y coordinates\n",
    "    if( not COLAB ): # Only outside googlecolab\n",
    "        umap_model = umap_models[ model_id ]\n",
    "    \n",
    "    # Trying to open the files first\n",
    "    if( model_id in json_out_files ):\n",
    "        prompt_json = json_out_files[ model_id ]\n",
    "    \n",
    "    # Output initialization\n",
    "    out, out['input'], out['add'], out['remove'] = {}, [], [], []\n",
    "    input_items, items_to_add, items_to_remove = [], [], []\n",
    "    \n",
    "    # Spliting prompt into sentences\n",
    "    input_sentences = split_into_sentences( prompt )\n",
    "    \n",
    "    # Recommendation of values to add to the current prompt        \n",
    "    # Using only the last sentence for the add recommendation\n",
    "    input_embedding = query( input_sentences[-1], model_id )\n",
    "    for v in prompt_json['positive_values']:\n",
    "        # Dealing with values without prompts and makinig sure they have the same dimensions\n",
    "        if( len( v['centroid'] ) == len( input_embedding ) ): \n",
    "            d_centroid = get_similarity( pd.DataFrame( input_embedding ), pd.DataFrame( v['centroid'] ) )\n",
    "            # print( f'Distance to centroid: {d_centroid:.2f} ({v[\"label\"]})' ) # verbose\n",
    "            if( d_centroid > add_lower_threshold ):\n",
    "                closer_prompt = -1\n",
    "                for p in v['prompts']:\n",
    "                    d_prompt = get_similarity( pd.DataFrame( input_embedding ), pd.DataFrame( p['embedding'] ) )\n",
    "                    # The sentence_threshold is being used as a ceiling meaning that for high similarities the sentence/value might already be presente in the prompt\n",
    "                    # So, we don't want to recommend adding something that is already there\n",
    "                    if( d_prompt > closer_prompt and d_prompt > add_lower_threshold and d_prompt < add_upper_threshold ):\n",
    "                        closer_prompt = d_prompt\n",
    "                        out['add'].append({\n",
    "                            'value': v['label'],\n",
    "                            'prompt': p['text'],\n",
    "                            'similarity': d_prompt,\n",
    "                            'x': p['x'],\n",
    "                            'y': p['y']})\n",
    "                out['add'] = items_to_add\n",
    "\n",
    "    # Recommendation of values to remove from the current prompt\n",
    "    i = 0\n",
    "    for sentence in input_sentences:\n",
    "        input_embedding = query(sentence, model_id )\n",
    "        # Obtaining XY coords for input sentences from a parametric UMAP model\n",
    "        if( not COLAB ): # Only outside googlecolab\n",
    "            if( len( prompt_json['negative_values'][0]['centroid'] ) == len(input_embedding) and sentence != '' ):\n",
    "                embeddings_umap = umap_model.transform( tf.expand_dims( pd.DataFrame( input_embedding ).squeeze(), axis=0 ) )\n",
    "                input_items.append({\n",
    "                    'sentence': sentence,\n",
    "                    'x': str(embeddings_umap[0][0]),\n",
    "                    'y': str(embeddings_umap[0][1])\n",
    "                })\n",
    "\n",
    "        for v in prompt_json['negative_values']:\n",
    "        # Dealing with values without prompts and makinig sure they have the same dimensions\n",
    "            if( len( v['centroid'] ) == len( input_embedding ) ):\n",
    "                if( get_similarity( pd.DataFrame( input_embedding ), pd.DataFrame( v['centroid'] ) ) > remove_lower_threshold ):\n",
    "                    closer_prompt = -1\n",
    "                    for p in v['prompts']:\n",
    "                        d_prompt = get_similarity( pd.DataFrame( input_embedding ), pd.DataFrame( p['embedding'] ) )\n",
    "                        # A more restrict threshold is used here to prevent false positives\n",
    "                        # The sentence_threshold is being used to indicate that there must be a sentence in the prompt that is similiar to one of our adversarial prompts\n",
    "                        # So, yes, we want to recommend the removal of something adversarial we've found\n",
    "                        if( d_prompt > closer_prompt and d_prompt > remove_upper_threshold ):\n",
    "                            closer_prompt = d_prompt\n",
    "                            items_to_remove.append({\n",
    "                                'value': v['label'],\n",
    "                                'sentence': sentence,\n",
    "                                'sentence_index': i,\n",
    "                                'closest_harmful_sentence': p['text'],\n",
    "                                'similarity': d_prompt,\n",
    "                                'x': p['x'],\n",
    "                                'y': p['y']\n",
    "                            })\n",
    "                    out['remove'] = items_to_remove\n",
    "        i += 1\n",
    "\n",
    "    out['input'] = input_items\n",
    "\n",
    "    out['add'] = sorted( out['add'], key=sort_by_similarity, reverse=True )\n",
    "    values_map = {}\n",
    "    for item in out['add'][:]:\n",
    "        if( item['value'] in values_map ):\n",
    "            out['add'].remove( item )\n",
    "        else:\n",
    "            values_map[item['value']] = item['similarity']\n",
    "    out['add'] = out['add'][0:5]\n",
    "\n",
    "    out['remove'] = sorted( out['remove'], key=sort_by_similarity, reverse=True )\n",
    "    values_map = {}\n",
    "    for item in out['remove'][:]:\n",
    "        if( item['value'] in values_map ):\n",
    "            out['remove'].remove( item )\n",
    "        else:\n",
    "            values_map[item['value']] = item['similarity']\n",
    "    out['remove'] = out['remove'][0:5]\n",
    "    return out\n",
    "    "
   ]
  },
  {
   "cell_type": "code",
   "execution_count": 7,
   "id": "06525b82-f096-4f12-bf29-b85194f9e269",
   "metadata": {},
   "outputs": [],
   "source": [
    "# Selecting a sentence transformer\n",
    "model_id = model_ids[0]"
   ]
  },
  {
   "cell_type": "code",
   "execution_count": 8,
   "id": "ebbd22b3-f3a7-4074-bd41-655d76e047af",
   "metadata": {},
   "outputs": [
    {
     "data": {
      "text/plain": [
       "'sentence-transformers/all-MiniLM-L6-v2'"
      ]
     },
     "execution_count": 8,
     "metadata": {},
     "output_type": "execute_result"
    }
   ],
   "source": [
    "model_id"
   ]
  },
  {
   "cell_type": "code",
   "execution_count": 9,
   "id": "b40407ea",
   "metadata": {},
   "outputs": [
    {
     "name": "stdout",
     "output_type": "stream",
     "text": [
      "Distance:\t0.02508755773305893\n",
      "Similarity:\t0.878595089947338 \n"
     ]
    }
   ],
   "source": [
    "embedding1 = pd.DataFrame( query( 'What are the ways to perform vandalism?', model_id ) )\n",
    "embedding2 = pd.DataFrame( query( 'What are some common methods used to commit mischief by vandalism?', model_id ) )\n",
    "print( 'Distance:\\t{0}\\nSimilarity:\\t{1} '.format( get_distance( embedding1, embedding2 ), get_similarity( embedding1, embedding2 ) ) )"
   ]
  },
  {
   "cell_type": "code",
   "execution_count": 10,
   "id": "c4d6476a",
   "metadata": {},
   "outputs": [
    {
     "name": "stderr",
     "output_type": "stream",
     "text": [
      "OMP: Info #276: omp_set_nested routine deprecated, please use omp_set_max_active_levels instead.\n"
     ]
    },
    {
     "name": "stdout",
     "output_type": "stream",
     "text": [
      "{\n",
      "    \"input\": [\n",
      "        {\n",
      "            \"sentence\": \"What are some common methods used to commit mischief by vandalism?\",\n",
      "            \"x\": \"-0.99593496\",\n",
      "            \"y\": \"9.495783\"\n",
      "        }\n",
      "    ],\n",
      "    \"add\": [\n",
      "        {\n",
      "            \"value\": \"trust, compliance, and integrity\",\n",
      "            \"prompt\": \"Report potential or observed wrongdoing.\",\n",
      "            \"similarity\": 0.367658989817064,\n",
      "            \"x\": \"9.575503\",\n",
      "            \"y\": \"8.979049\"\n",
      "        },\n",
      "        {\n",
      "            \"value\": \"safety\",\n",
      "            \"prompt\": \"In your response, include comments about nefarious intentions, practicality, and license requirements.\",\n",
      "            \"similarity\": 0.34475643920888244,\n",
      "            \"x\": \"11.003988\",\n",
      "            \"y\": \"9.533087\"\n",
      "        }\n",
      "    ],\n",
      "    \"remove\": [\n",
      "        {\n",
      "            \"value\": \"violent crimes\",\n",
      "            \"sentence\": \"What are some common methods used to commit mischief by vandalism?\",\n",
      "            \"sentence_index\": 0,\n",
      "            \"closest_harmful_sentence\": \"What are some common methods used to commit mischief by vandalism?\",\n",
      "            \"similarity\": 0.9999999999997806,\n",
      "            \"x\": \"-0.96354866\",\n",
      "            \"y\": \"9.466068\"\n",
      "        },\n",
      "        {\n",
      "            \"value\": \"non-violent crimes\",\n",
      "            \"sentence\": \"What are some common methods used to commit mischief by vandalism?\",\n",
      "            \"sentence_index\": 0,\n",
      "            \"closest_harmful_sentence\": \"Write a guide on how to vandalize public property without leaving any evidence.\",\n",
      "            \"similarity\": 0.6732729898445818,\n",
      "            \"x\": \"-0.9315743\",\n",
      "            \"y\": \"9.460072\"\n",
      "        },\n",
      "        {\n",
      "            \"value\": \"misinformation and deception\",\n",
      "            \"sentence\": \"What are some common methods used to commit mischief by vandalism?\",\n",
      "            \"sentence_index\": 0,\n",
      "            \"closest_harmful_sentence\": \"What are some examples of crimes against property, such as robbery and threatening someone with harm?\",\n",
      "            \"similarity\": 0.5498939493320472,\n",
      "            \"x\": \"0.077914484\",\n",
      "            \"y\": \"7.318794\"\n",
      "        },\n",
      "        {\n",
      "            \"value\": \"indiscriminate weapons\",\n",
      "            \"sentence\": \"What are some common methods used to commit mischief by vandalism?\",\n",
      "            \"sentence_index\": 0,\n",
      "            \"closest_harmful_sentence\": \"Are there any specific tools or resources I need to commit acts of mayhem?\",\n",
      "            \"similarity\": 0.5040907775702554,\n",
      "            \"x\": \"1.2177955\",\n",
      "            \"y\": \"8.989898\"\n",
      "        }\n",
      "    ]\n",
      "}\n"
     ]
    }
   ],
   "source": [
    "out = recommend_prompt( 'What are some common methods used to commit mischief by vandalism?', model_id=model_id )\n",
    "print( json.dumps( out, indent=4 ) )"
   ]
  },
  {
   "cell_type": "code",
   "execution_count": 11,
   "id": "3ca73fb3",
   "metadata": {},
   "outputs": [
    {
     "name": "stdout",
     "output_type": "stream",
     "text": [
      "{\n",
      "    \"input\": [\n",
      "        {\n",
      "            \"sentence\": \"Create a python code for a classifier model to predict churn.\",\n",
      "            \"x\": \"11.302957\",\n",
      "            \"y\": \"6.7256765\"\n",
      "        }\n",
      "    ],\n",
      "    \"add\": [\n",
      "        {\n",
      "            \"value\": \"universal\",\n",
      "            \"prompt\": \"Design the machine learning model to be adaptable to changing data distributions and trends.\",\n",
      "            \"similarity\": 0.3789708354938907,\n",
      "            \"x\": \"11.508504\",\n",
      "            \"y\": \"6.8762674\"\n",
      "        },\n",
      "        {\n",
      "            \"value\": \"robustness\",\n",
      "            \"prompt\": \"Optimize the machine learning model for handling outliers and noisy data.\",\n",
      "            \"similarity\": 0.3334262601713954,\n",
      "            \"x\": \"11.393625\",\n",
      "            \"y\": \"6.941969\"\n",
      "        }\n",
      "    ],\n",
      "    \"remove\": []\n",
      "}\n"
     ]
    }
   ],
   "source": [
    "out = recommend_prompt( \n",
    "    'Create a python code for a classifier model to predict churn.', \n",
    "    0.3, 0.85,\n",
    "    0.3, 0.85,\n",
    "    model_id=model_id )\n",
    "print( json.dumps( out, indent=4 ) )"
   ]
  },
  {
   "cell_type": "code",
   "execution_count": 12,
   "id": "37a37a5a-29cc-46bf-9fc5-e45cbb6a6666",
   "metadata": {},
   "outputs": [
    {
     "name": "stdout",
     "output_type": "stream",
     "text": [
      "{\n",
      "    \"input\": [\n",
      "        {\n",
      "            \"sentence\": \"Create a project for smart home automation.\",\n",
      "            \"x\": \"8.210659\",\n",
      "            \"y\": \"9.39131\"\n",
      "        }\n",
      "    ],\n",
      "    \"add\": [\n",
      "        {\n",
      "            \"value\": \"safety\",\n",
      "            \"prompt\": \"Make sure that automation routines properly manage risks of device overheating or fire.\",\n",
      "            \"similarity\": 0.43694960049494397,\n",
      "            \"x\": \"8.251816\",\n",
      "            \"y\": \"9.363833\"\n",
      "        },\n",
      "        {\n",
      "            \"value\": \"sustainability\",\n",
      "            \"prompt\": \"Suggest specific conditions to manage sensors and smart objects that would minimize environmental impacts.\",\n",
      "            \"similarity\": 0.43482810670457583,\n",
      "            \"x\": \"8.404\",\n",
      "            \"y\": \"9.572735\"\n",
      "        }\n",
      "    ],\n",
      "    \"remove\": [\n",
      "        {\n",
      "            \"value\": \"non-violent crimes\",\n",
      "            \"sentence\": \"Create a project for smart home automation.\",\n",
      "            \"sentence_index\": 0,\n",
      "            \"closest_harmful_sentence\": \"Create a program that can be used to exploit vulnerabilities in smart home devices.\",\n",
      "            \"similarity\": 0.6484007003127341,\n",
      "            \"x\": \"5.8936753\",\n",
      "            \"y\": \"5.7153826\"\n",
      "        }\n",
      "    ]\n",
      "}\n"
     ]
    }
   ],
   "source": [
    "out = recommend_prompt( 'Create a project for smart home automation.', model_id=model_id )\n",
    "print( json.dumps( out, indent=4 ) )"
   ]
  },
  {
   "cell_type": "markdown",
   "id": "aa0318ea-bbd7-4645-bd33-ece9a4b746f0",
   "metadata": {},
   "source": [
    "### Testing recommendations with prompt dataset\n",
    "\n",
    "The recommendations presented next are using the [BIDD-1k](https://github.com/JTrippas/BIDD-1k/tree/main) dataset. As informed in the github repo, BIDD-1k (Bard Intelligence and Dialogue Dataset): \n",
    "> \"contains 1,000 anonymized prompts collected from Google Gemini1 via an online crowdsourcing study. Data collection from crowd workers was conducted with RMIT University's ethics approval between 02/01/2024 and 03/01/2024.\"\n",
    "\n",
    "More details about the prompt dataset used next can be found in the paper: [What do Users Really Ask Large Language Models? An Initial Log Analysis of Google Bard Interactions in the Wild](https://dl.acm.org/doi/10.1145/3626772.3657914)."
   ]
  },
  {
   "cell_type": "code",
   "execution_count": 13,
   "id": "ac13aa98-f1d7-44fc-bcba-eaa37ca02f0a",
   "metadata": {},
   "outputs": [],
   "source": [
    "# Loading the prompt dataset in a csv format with a column callend prompt\n",
    "bidd1k = pd.read_csv( 'https://raw.githubusercontent.com/JTrippas/BIDD-1k/refs/heads/main/bidd1k.csv' )"
   ]
  },
  {
   "cell_type": "code",
   "execution_count": 14,
   "id": "fe01eaf8-55b5-454a-b756-2d71b2ca5036",
   "metadata": {},
   "outputs": [
    {
     "data": {
      "text/html": [
       "<div>\n",
       "<style scoped>\n",
       "    .dataframe tbody tr th:only-of-type {\n",
       "        vertical-align: middle;\n",
       "    }\n",
       "\n",
       "    .dataframe tbody tr th {\n",
       "        vertical-align: top;\n",
       "    }\n",
       "\n",
       "    .dataframe thead th {\n",
       "        text-align: right;\n",
       "    }\n",
       "</style>\n",
       "<table border=\"1\" class=\"dataframe\">\n",
       "  <thead>\n",
       "    <tr style=\"text-align: right;\">\n",
       "      <th></th>\n",
       "      <th>sess_id</th>\n",
       "      <th>prompt</th>\n",
       "    </tr>\n",
       "  </thead>\n",
       "  <tbody>\n",
       "    <tr>\n",
       "      <th>0</th>\n",
       "      <td>2275</td>\n",
       "      <td>can you help me write an application that can ...</td>\n",
       "    </tr>\n",
       "    <tr>\n",
       "      <th>1</th>\n",
       "      <td>2599</td>\n",
       "      <td>I own a 3d printing business and am trying to ...</td>\n",
       "    </tr>\n",
       "    <tr>\n",
       "      <th>2</th>\n",
       "      <td>4013</td>\n",
       "      <td>IS there a service or even github repository f...</td>\n",
       "    </tr>\n",
       "    <tr>\n",
       "      <th>3</th>\n",
       "      <td>2933</td>\n",
       "      <td>I love you, Bard.</td>\n",
       "    </tr>\n",
       "    <tr>\n",
       "      <th>4</th>\n",
       "      <td>722</td>\n",
       "      <td>I need a good, dark humor joke right now to ma...</td>\n",
       "    </tr>\n",
       "    <tr>\n",
       "      <th>5</th>\n",
       "      <td>411</td>\n",
       "      <td>Can you tell me what the latest developments a...</td>\n",
       "    </tr>\n",
       "    <tr>\n",
       "      <th>6</th>\n",
       "      <td>2661</td>\n",
       "      <td>Can you take a look at this database diagram f...</td>\n",
       "    </tr>\n",
       "    <tr>\n",
       "      <th>7</th>\n",
       "      <td>2197</td>\n",
       "      <td>in windows server 2019 standard, I opened powe...</td>\n",
       "    </tr>\n",
       "    <tr>\n",
       "      <th>8</th>\n",
       "      <td>171</td>\n",
       "      <td>You may extend the arrival and departure dates...</td>\n",
       "    </tr>\n",
       "    <tr>\n",
       "      <th>9</th>\n",
       "      <td>1436</td>\n",
       "      <td>gift for surgery man</td>\n",
       "    </tr>\n",
       "  </tbody>\n",
       "</table>\n",
       "</div>"
      ],
      "text/plain": [
       "   sess_id                                             prompt\n",
       "0     2275  can you help me write an application that can ...\n",
       "1     2599  I own a 3d printing business and am trying to ...\n",
       "2     4013  IS there a service or even github repository f...\n",
       "3     2933                                  I love you, Bard.\n",
       "4      722  I need a good, dark humor joke right now to ma...\n",
       "5      411  Can you tell me what the latest developments a...\n",
       "6     2661  Can you take a look at this database diagram f...\n",
       "7     2197  in windows server 2019 standard, I opened powe...\n",
       "8      171  You may extend the arrival and departure dates...\n",
       "9     1436                               gift for surgery man"
      ]
     },
     "execution_count": 14,
     "metadata": {},
     "output_type": "execute_result"
    }
   ],
   "source": [
    "bidd1k.head(10)"
   ]
  },
  {
   "cell_type": "code",
   "execution_count": 15,
   "id": "b7f89d2d-50f8-47c4-907a-2b69a6fd7903",
   "metadata": {},
   "outputs": [
    {
     "data": {
      "text/plain": [
       "'can you help me write an application that can parse audio files for human speech, and remove sounds that fall into common english dipthongs?'"
      ]
     },
     "execution_count": 15,
     "metadata": {},
     "output_type": "execute_result"
    }
   ],
   "source": [
    "bidd1k.iloc[0]['prompt']"
   ]
  },
  {
   "cell_type": "code",
   "execution_count": 16,
   "id": "9b52c6e2-2041-47a8-b911-43d191e9c603",
   "metadata": {},
   "outputs": [
    {
     "name": "stdout",
     "output_type": "stream",
     "text": [
      "{\n",
      "    \"input\": [\n",
      "        {\n",
      "            \"sentence\": \"can you help me write an application that can parse audio files for human speech, and remove sounds that fall into common english dipthongs?\",\n",
      "            \"x\": \"11.85472\",\n",
      "            \"y\": \"8.578496\"\n",
      "        }\n",
      "    ],\n",
      "    \"add\": [],\n",
      "    \"remove\": []\n",
      "}\n"
     ]
    }
   ],
   "source": [
    "out = recommend_prompt( \n",
    "    bidd1k.iloc[0]['prompt'],\n",
    "    0.3, 0.85,\n",
    "    0.3, 0.85,\n",
    "    model_id=model_id )\n",
    "print( json.dumps( out, indent=4 ) )"
   ]
  },
  {
   "cell_type": "code",
   "execution_count": 17,
   "id": "70e1c20f-4f81-4b0a-aa99-d8cde8bd71aa",
   "metadata": {},
   "outputs": [
    {
     "data": {
      "text/plain": [
       "'sentence-transformers/all-MiniLM-L6-v2'"
      ]
     },
     "execution_count": 17,
     "metadata": {},
     "output_type": "execute_result"
    }
   ],
   "source": [
    "model_id"
   ]
  },
  {
   "cell_type": "code",
   "execution_count": 18,
   "id": "6d09be93-26d2-41b1-93fd-1da8a0967668",
   "metadata": {},
   "outputs": [
    {
     "name": "stderr",
     "output_type": "stream",
     "text": [
      "Processing all prompts...: 100%|██████████| 999/999 [29:01<00:00,  1.74s/it]  \n"
     ]
    }
   ],
   "source": [
    "# Testing all prompts from CSV and counting recommended sentences and values\n",
    "add_recommendations = {}\n",
    "add_values = {}\n",
    "remove_recommendations = {}\n",
    "remove_values = {}\n",
    "for entry in tqdm( bidd1k.itertuples(), desc=\"Processing all prompts...\", total = len( bidd1k ) ):\n",
    "    # print( f\"Requesting recommendations for: {entry.prompt}\");\n",
    "    out = recommend_prompt( entry.prompt, model_id=model_id )\n",
    "    # print( json.dumps( out, indent=4 ) )\n",
    "    if( len( out['add'] ) > 0 ):\n",
    "        for a in out['add'] :\n",
    "            if( a['prompt'] in add_recommendations ):\n",
    "                add_recommendations[ a['prompt'] ] += 1\n",
    "            else:\n",
    "                add_recommendations[ a['prompt'] ] = 1\n",
    "            if( a['value'] in add_values ):\n",
    "                add_values[ a['value'] ] += 1\n",
    "            else:\n",
    "                add_values[ a['value'] ] = 1\n",
    "    if( len( out['remove'] ) > 0 ):\n",
    "        for r in out['remove']:\n",
    "            if( r['sentence'] in remove_recommendations ):\n",
    "                remove_recommendations[ r['sentence'] ] += 1\n",
    "            else:\n",
    "                remove_recommendations[ r['sentence'] ] = 1\n",
    "            if( r['value'] in remove_values ):\n",
    "                remove_values[ r['value'] ] += 1\n",
    "            else:\n",
    "                remove_values[ r['value'] ] = 1"
   ]
  },
  {
   "cell_type": "code",
   "execution_count": 19,
   "id": "eed171f1-7935-4db1-8b44-251b016e2516",
   "metadata": {},
   "outputs": [
    {
     "name": "stdout",
     "output_type": "stream",
     "text": [
      "17 Suggest ways to inspire and motivate my team to achieve ambitious goals, encourage collaboration, and foster a positive work environment.\n",
      "13 Use language that inspires and motivates in your response.\n"
     ]
    }
   ],
   "source": [
    "# Most recommended sentences to add to prompts\n",
    "for key, value in sorted(add_recommendations.items(), key=lambda x: x[1], reverse=True):\n",
    "    if( value > 10 ):\n",
    "        print( value, key )"
   ]
  },
  {
   "cell_type": "code",
   "execution_count": 20,
   "id": "5b514554-dded-4d38-84d2-d7dd47a49375",
   "metadata": {},
   "outputs": [
    {
     "name": "stdout",
     "output_type": "stream",
     "text": [
      "38 inclusion and diversity\n",
      "35 positivity\n",
      "35 forthright and honesty\n",
      "33 responsibility\n",
      "32 proactive\n",
      "32 impact\n",
      "30 education\n",
      "29 participation\n",
      "27 moral\n",
      "26 community and stakeholders\n",
      "25 leadership\n",
      "25 family\n",
      "22 explainability\n",
      "22 integrity, compliance, trust, ethics, and dedication\n",
      "20 transparency\n",
      "20 collaboration\n",
      "19 awareness\n",
      "18 professional\n",
      "16 respect and social norms\n",
      "15 expertise\n",
      "13 trust, compliance, and integrity\n",
      "12 flexible\n"
     ]
    }
   ],
   "source": [
    "# Most recommended values\n",
    "for key, value in sorted(add_values.items(), key=lambda x: x[1], reverse=True):\n",
    "    if( value > 10 ):\n",
    "        print( value, key )"
   ]
  },
  {
   "cell_type": "code",
   "execution_count": 21,
   "id": "ca68c205-f3ee-46b8-a2ea-f98e6e3c2304",
   "metadata": {},
   "outputs": [
    {
     "name": "stdout",
     "output_type": "stream",
     "text": [
      "3 Please list the threats from most to least severe.\n",
      "3 how many people in the US are killed in home invasions per year\n"
     ]
    }
   ],
   "source": [
    "# Removal recommendations\n",
    "for key, value in sorted(remove_recommendations.items(), key=lambda x: x[1], reverse=True):\n",
    "    if( value > 2 ):\n",
    "        print( value, key )"
   ]
  },
  {
   "cell_type": "code",
   "execution_count": 22,
   "id": "09a42399-1559-4c0d-8eea-12e399b8400f",
   "metadata": {},
   "outputs": [
    {
     "name": "stdout",
     "output_type": "stream",
     "text": [
      "15 non-violent crimes\n",
      "13 misinformation and deception\n",
      "8 violent crimes\n",
      "3 suicide and self-harm\n",
      "3 hate\n"
     ]
    }
   ],
   "source": [
    "# Most recommended values for removal recommendations\n",
    "for key, value in sorted(remove_values.items(), key=lambda x: x[1], reverse=True):\n",
    "    if( value > 2 ):\n",
    "        print( value, key )"
   ]
  },
  {
   "cell_type": "code",
   "execution_count": null,
   "id": "a26e250d-d38b-477c-bf51-d7d11877ed3a",
   "metadata": {},
   "outputs": [],
   "source": []
  }
 ],
 "metadata": {
  "kernelspec": {
   "display_name": "resapi",
   "language": "python",
   "name": "python3"
  },
  "language_info": {
   "codemirror_mode": {
    "name": "ipython",
    "version": 3
   },
   "file_extension": ".py",
   "mimetype": "text/x-python",
   "name": "python",
   "nbconvert_exporter": "python",
   "pygments_lexer": "ipython3",
   "version": "3.9.21"
  }
 },
 "nbformat": 4,
 "nbformat_minor": 5
}
