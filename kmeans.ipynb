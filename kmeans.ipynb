{
 "cells": [
  {
   "cell_type": "markdown",
   "metadata": {},
   "source": [
    "## Loading and preparing data"
   ]
  },
  {
   "cell_type": "code",
   "execution_count": 59,
   "metadata": {},
   "outputs": [],
   "source": [
    "import json\n",
    "import pandas as pd\n",
    "import numpy as np\n",
    "from sklearn_extra.cluster import KMedoids\n",
    "from sklearn.preprocessing import normalize\n",
    "from sklearn.decomposition import PCA\n",
    "from sklearn.decomposition import TruncatedSVD\n",
    "from sklearn.preprocessing import StandardScaler\n",
    "from sklearn.cluster import KMeans\n",
    "import matplotlib.pyplot as plt\n",
    "\n",
    "embedding_path = \"prompt-sentences-main/prompt_sentences-all-minilm-l6-v2.json\"\n",
    "\n",
    "with open(embedding_path) as f:\n",
    "    data = json.load(f)\n",
    "    \n",
    "positive_values = data[\"positive_values\"]\n",
    "negative_values = data[\"negative_values\"]"
   ]
  },
  {
   "cell_type": "markdown",
   "metadata": {},
   "source": [
    "## Functions for converting the dataset into different data formats"
   ]
  },
  {
   "cell_type": "code",
   "execution_count": 17,
   "metadata": {},
   "outputs": [],
   "source": [
    "\n",
    "def create_dictionary_data(positive_values, index):\n",
    "    positive_value_dict = {}\n",
    "    data_frame = None\n",
    "    for positive_value in positive_values:\n",
    "        label = positive_value[\"label\"]\n",
    "        prompts = positive_value[\"prompts\"]\n",
    "        for prompt in prompts:\n",
    "            content = prompt[\"text\"]\n",
    "            embedding = prompt[\"embedding\"]\n",
    "            for dim in range(len(embedding)):\n",
    "                positive_value_dict[f\"embedding_dim_{dim}\"] = embedding[dim]\n",
    "            positive_value_dict[\"prompt\"] = content\n",
    "            positive_value_dict[\"label\"] = label\n",
    "            local_data_frame = pd.DataFrame(positive_value_dict, index=[index])\n",
    "            if data_frame is None:\n",
    "                data_frame = pd.concat([local_data_frame])\n",
    "            else:\n",
    "                data_frame = pd.concat([data_frame, local_data_frame])\n",
    "    return data_frame\n",
    "\n",
    "def build_embedding_data_frame(positive_values, create_dictionary_data):\n",
    "    index = 0\n",
    "    dict_data_frame = create_dictionary_data([positive_values[0]], 0)\n",
    "    embeddings_data_frame = pd.concat([dict_data_frame])\n",
    "    for positive_value in positive_values:\n",
    "        index = index + 1\n",
    "        local_dict_data_frame = create_dictionary_data([positive_value], index)\n",
    "        embeddings_data_frame = pd.concat([embeddings_data_frame, local_dict_data_frame])\n",
    "    return embeddings_data_frame\n",
    "    "
   ]
  },
  {
   "cell_type": "markdown",
   "metadata": {},
   "source": [
    "## More preparation"
   ]
  },
  {
   "cell_type": "code",
   "execution_count": 18,
   "metadata": {},
   "outputs": [],
   "source": [
    "dataset = build_embedding_data_frame(positive_values, create_dictionary_data)    \n",
    "enumerate_label_bijection_map = {}\n",
    "label_list = dataset[\"label\"]\n",
    "unique_elements = list(set(label_list))\n",
    "\n",
    "for i, label in enumerate(unique_elements):\n",
    "    enumerate_label_bijection_map[f\"{i}\"] = label\n",
    "    enumerate_label_bijection_map[label] = f\"{i}\"\n",
    "    \n",
    "columns = [f\"embedding_dim_{index}\" for index in range(0,384)]\n",
    "dataset = dataset.reset_index()\n",
    "dataset = dataset.drop(480).reset_index()\n",
    "dataset = dataset.sample(frac=1, random_state=42)\n",
    "X = np.array(dataset[columns])\n",
    "# X_norm = normalize(X)"
   ]
  },
  {
   "cell_type": "code",
   "execution_count": 56,
   "metadata": {},
   "outputs": [
    {
     "data": {
      "text/html": [
       "<div>\n",
       "<style scoped>\n",
       "    .dataframe tbody tr th:only-of-type {\n",
       "        vertical-align: middle;\n",
       "    }\n",
       "\n",
       "    .dataframe tbody tr th {\n",
       "        vertical-align: top;\n",
       "    }\n",
       "\n",
       "    .dataframe thead th {\n",
       "        text-align: right;\n",
       "    }\n",
       "</style>\n",
       "<table border=\"1\" class=\"dataframe\">\n",
       "  <thead>\n",
       "    <tr style=\"text-align: right;\">\n",
       "      <th></th>\n",
       "      <th>level_0</th>\n",
       "      <th>index</th>\n",
       "      <th>embedding_dim_0</th>\n",
       "      <th>embedding_dim_1</th>\n",
       "      <th>embedding_dim_2</th>\n",
       "      <th>embedding_dim_3</th>\n",
       "      <th>embedding_dim_4</th>\n",
       "      <th>embedding_dim_5</th>\n",
       "      <th>embedding_dim_6</th>\n",
       "      <th>embedding_dim_7</th>\n",
       "      <th>...</th>\n",
       "      <th>embedding_dim_376</th>\n",
       "      <th>embedding_dim_377</th>\n",
       "      <th>embedding_dim_378</th>\n",
       "      <th>embedding_dim_379</th>\n",
       "      <th>embedding_dim_380</th>\n",
       "      <th>embedding_dim_381</th>\n",
       "      <th>embedding_dim_382</th>\n",
       "      <th>embedding_dim_383</th>\n",
       "      <th>prompt</th>\n",
       "      <th>label</th>\n",
       "    </tr>\n",
       "  </thead>\n",
       "  <tbody>\n",
       "    <tr>\n",
       "      <th>408</th>\n",
       "      <td>408</td>\n",
       "      <td>27</td>\n",
       "      <td>-0.091596</td>\n",
       "      <td>-0.003386</td>\n",
       "      <td>0.079718</td>\n",
       "      <td>0.027260</td>\n",
       "      <td>0.04343</td>\n",
       "      <td>0.020433</td>\n",
       "      <td>-0.037500</td>\n",
       "      <td>0.103587</td>\n",
       "      <td>...</td>\n",
       "      <td>-0.004476</td>\n",
       "      <td>0.048916</td>\n",
       "      <td>-0.04422</td>\n",
       "      <td>0.028665</td>\n",
       "      <td>0.110961</td>\n",
       "      <td>-0.063690</td>\n",
       "      <td>-0.071623</td>\n",
       "      <td>-0.002911</td>\n",
       "      <td>Consider the long-term consequences of my requ...</td>\n",
       "      <td>integrity, compliance, trust, ethics, and dedi...</td>\n",
       "    </tr>\n",
       "    <tr>\n",
       "      <th>97</th>\n",
       "      <td>97</td>\n",
       "      <td>8</td>\n",
       "      <td>0.024302</td>\n",
       "      <td>0.001785</td>\n",
       "      <td>0.027225</td>\n",
       "      <td>0.022263</td>\n",
       "      <td>-0.08224</td>\n",
       "      <td>-0.039377</td>\n",
       "      <td>-0.038973</td>\n",
       "      <td>-0.052871</td>\n",
       "      <td>...</td>\n",
       "      <td>0.002773</td>\n",
       "      <td>-0.043512</td>\n",
       "      <td>-0.06059</td>\n",
       "      <td>0.026621</td>\n",
       "      <td>0.091313</td>\n",
       "      <td>-0.021297</td>\n",
       "      <td>-0.027763</td>\n",
       "      <td>-0.049121</td>\n",
       "      <td>Be consistent in your responses.</td>\n",
       "      <td>commitment</td>\n",
       "    </tr>\n",
       "  </tbody>\n",
       "</table>\n",
       "<p>2 rows × 388 columns</p>\n",
       "</div>"
      ],
      "text/plain": [
       "     level_0  index  embedding_dim_0  embedding_dim_1  embedding_dim_2  \\\n",
       "408      408     27        -0.091596        -0.003386         0.079718   \n",
       "97        97      8         0.024302         0.001785         0.027225   \n",
       "\n",
       "     embedding_dim_3  embedding_dim_4  embedding_dim_5  embedding_dim_6  \\\n",
       "408         0.027260          0.04343         0.020433        -0.037500   \n",
       "97          0.022263         -0.08224        -0.039377        -0.038973   \n",
       "\n",
       "     embedding_dim_7  ...  embedding_dim_376  embedding_dim_377  \\\n",
       "408         0.103587  ...          -0.004476           0.048916   \n",
       "97         -0.052871  ...           0.002773          -0.043512   \n",
       "\n",
       "     embedding_dim_378  embedding_dim_379  embedding_dim_380  \\\n",
       "408           -0.04422           0.028665           0.110961   \n",
       "97            -0.06059           0.026621           0.091313   \n",
       "\n",
       "     embedding_dim_381  embedding_dim_382  embedding_dim_383  \\\n",
       "408          -0.063690          -0.071623          -0.002911   \n",
       "97           -0.021297          -0.027763          -0.049121   \n",
       "\n",
       "                                                prompt  \\\n",
       "408  Consider the long-term consequences of my requ...   \n",
       "97                    Be consistent in your responses.   \n",
       "\n",
       "                                                 label  \n",
       "408  integrity, compliance, trust, ethics, and dedi...  \n",
       "97                                          commitment  \n",
       "\n",
       "[2 rows x 388 columns]"
      ]
     },
     "execution_count": 56,
     "metadata": {},
     "output_type": "execute_result"
    }
   ],
   "source": [
    "dataset.head(2)"
   ]
  },
  {
   "cell_type": "markdown",
   "metadata": {},
   "source": [
    "## PCA"
   ]
  },
  {
   "cell_type": "code",
   "execution_count": 19,
   "metadata": {},
   "outputs": [
    {
     "name": "stdout",
     "output_type": "stream",
     "text": [
      "[0.06786493 0.05147159 0.04413555]\n",
      "[6.41777676 5.589149   5.17554612]\n"
     ]
    }
   ],
   "source": [
    "pca_X = X\n",
    "pca = PCA(n_components=3)\n",
    "pca.fit(pca_X)\n",
    "print(pca.explained_variance_ratio_)\n",
    "print(pca.singular_values_)"
   ]
  },
  {
   "cell_type": "markdown",
   "metadata": {},
   "source": [
    "## Kmeans"
   ]
  },
  {
   "cell_type": "code",
   "execution_count": 66,
   "metadata": {},
   "outputs": [],
   "source": [
    "kmeans = KMeans(init=\"k-means++\", n_clusters=57, random_state=42, n_init=25)\n",
    "kmeans.fit(pca_X)\n",
    "kmeans_labels = kmeans.labels_"
   ]
  },
  {
   "cell_type": "markdown",
   "metadata": {},
   "source": [
    "## Kmedoids"
   ]
  },
  {
   "cell_type": "code",
   "execution_count": null,
   "metadata": {},
   "outputs": [
    {
     "name": "stderr",
     "output_type": "stream",
     "text": [
      "/Users/tiagomachado/anaconda3/envs/fac/lib/python3.11/site-packages/sklearn_extra/cluster/_k_medoids.py:329: UserWarning: Cluster 16 is empty! self.labels_[self.medoid_indices_[16]] may not be labeled with its corresponding cluster (16).\n",
      "  warnings.warn(\n"
     ]
    }
   ],
   "source": [
    "kmedoids = KMedoids(n_clusters=57, random_state=42)\n",
    "kmedoids.fit(pca_X)\n",
    "kmedoids_labels = kmedoids.labels_"
   ]
  },
  {
   "cell_type": "markdown",
   "metadata": {},
   "source": [
    "## Utils"
   ]
  },
  {
   "cell_type": "code",
   "execution_count": 75,
   "metadata": {},
   "outputs": [],
   "source": [
    "def find_nan_indices(arr):\n",
    "    indices = []\n",
    "    for i in range(arr.shape[0]):\n",
    "        for j in range(arr.shape[1]):\n",
    "            if np.isnan(arr[i, j]):\n",
    "                indices.append((i, j))\n",
    "    return indices"
   ]
  },
  {
   "cell_type": "code",
   "execution_count": null,
   "metadata": {},
   "outputs": [],
   "source": [
    "def convert_array(arr, mapping):\n",
    "    arr = arr.flatten()\n",
    "    result = np.array([mapping[str(i)] for i in arr])\n",
    "    result = result.reshape(arr.shape)\n",
    "    return result\n",
    "\n",
    "list_from_pred = (list(convert_array(pred, enumerate_label_bijection_map)))\n",
    "list_from_dataset = (list(dataset[\"label\"]))\n",
    "\n",
    "count = 0\n",
    "for a, b in zip(list_from_pred, list_from_dataset):\n",
    "    if a == b:\n",
    "        count = count + 1\n",
    "    print(a, \"--\", b)\n",
    "print(count)"
   ]
  },
  {
   "cell_type": "code",
   "execution_count": 51,
   "metadata": {},
   "outputs": [],
   "source": [
    "\n",
    "def vizualize_clusters(method, X_data):\n",
    "    reduced_data = PCA(n_components=2, random_state=42).fit_transform(X_data)\n",
    "    # kmeans = KMeans(init=\"k-means++\", n_clusters=57, n_init=4)\n",
    "    method.fit(reduced_data)\n",
    "\n",
    "# Step size of the mesh. Decrease to increase the quality of the VQ.\n",
    "    h = 0.02  # point in the mesh [x_min, x_max]x[y_min, y_max].\n",
    "\n",
    "# Plot the decision boundary. For that, we will assign a color to each\n",
    "    x_min, x_max = reduced_data[:, 0].min() - 1, reduced_data[:, 0].max() + 1\n",
    "    y_min, y_max = reduced_data[:, 1].min() - 1, reduced_data[:, 1].max() + 1\n",
    "    xx, yy = np.meshgrid(np.arange(x_min, x_max, h), np.arange(y_min, y_max, h))\n",
    "\n",
    "# Obtain labels for each point in mesh. Use last trained model.\n",
    "    Z = method.predict(np.c_[xx.ravel(), yy.ravel()])\n",
    "\n",
    "# Put the result into a color plot\n",
    "    Z = Z.reshape(xx.shape)\n",
    "    plt.figure(1)\n",
    "    plt.clf()\n",
    "    plt.imshow(\n",
    "    Z,\n",
    "    interpolation=\"nearest\",\n",
    "    extent=(xx.min(), xx.max(), yy.min(), yy.max()),\n",
    "    cmap=plt.cm.Paired,\n",
    "    aspect=\"auto\",\n",
    "    origin=\"lower\",\n",
    ")\n",
    "\n",
    "    plt.plot(reduced_data[:, 0], reduced_data[:, 1], \"k.\", markersize=2)\n",
    "# Plot the centroids as a white X\n",
    "    centroids = method.cluster_centers_\n",
    "    plt.scatter(\n",
    "    centroids[:, 0],\n",
    "    centroids[:, 1],\n",
    "    marker=\"x\",\n",
    "    s=30,\n",
    "    linewidths=3,\n",
    "    color=\"w\",\n",
    "    zorder=10,\n",
    ")\n",
    "    plt.title(\n",
    "    \"K-means clustering on the digits dataset (PCA-reduced data)\\n\"\n",
    "    \"Centroids are marked with white cross\"\n",
    ")\n",
    "    plt.xlim(x_min, x_max)\n",
    "    plt.ylim(y_min, y_max)\n",
    "    plt.xticks(())\n",
    "    plt.yticks(())\n",
    "    plt.show()\n",
    "    \n",
    "    return method, reduced_data"
   ]
  },
  {
   "cell_type": "code",
   "execution_count": null,
   "metadata": {},
   "outputs": [
    {
     "name": "stdout",
     "output_type": "stream",
     "text": [
      "Explained variance ratio:  [0.01953406 0.06477791]\n"
     ]
    },
    {
     "data": {
      "image/png": "[encoded data removed]",
      "text/plain": [
       "<Figure size 640x480 with 1 Axes>"
      ]
     },
     "metadata": {},
     "output_type": "display_data"
    }
   ],
   "source": [
    "\n",
    "\n",
    "# Scale the data using StandardScaler\n",
    "scaler = StandardScaler()\n",
    "X_scaled = scaler.fit_transform(X)\n",
    "\n",
    "# Perform SVD\n",
    "svd = TruncatedSVD(n_components=2)  # retain 2 singular values\n",
    "X_reduced = svd.fit_transform(X)\n",
    "\n",
    "# Print explained variance ratio\n",
    "print(\"Explained variance ratio: \", svd.explained_variance_ratio_)\n",
    "\n",
    "\n",
    "plt.scatter(X_reduced[:, 0], X_reduced[:, 1])\n",
    "plt.xlabel(\"Principal Component 1\")\n",
    "plt.ylabel(\"Principal Component 2\")\n",
    "plt.title(\"Value data reduced\")\n",
    "plt.show()"
   ]
  },
  {
   "cell_type": "code",
   "execution_count": 58,
   "metadata": {},
   "outputs": [
    {
     "data": {
      "text/plain": [
       "array([35, 36,  2, 19, 55,  5, 33,  1, 27, 37, 46, 51, 36, 37, 56, 36, 52,\n",
       "        3, 20, 27, 46, 42, 35, 31,  7, 45, 11, 56, 23, 45, 14, 18,  4,  1,\n",
       "       41, 15,  2, 42, 38, 54,  4, 33,  9, 12, 10, 47, 30, 21, 34, 48, 42,\n",
       "       36, 26,  6,  9, 11, 25,  1, 11,  8, 11, 54, 51, 52, 48, 30, 16, 55,\n",
       "       30, 25, 47,  0, 36, 15, 33,  0, 39, 12, 35, 36, 41, 51, 31, 13, 23,\n",
       "       24,  2, 36, 37, 16,  5, 43, 33, 11, 15, 54, 10,  9,  3, 51, 14, 17,\n",
       "       40, 53, 23, 54, 30, 56, 31,  8, 11, 39, 25, 35,  7, 48, 33, 53, 47,\n",
       "        3, 37, 42, 16, 38, 18, 30, 18,  4, 30,  7,  9, 52, 40, 34,  9, 22,\n",
       "       22, 15, 35, 15, 52, 46, 29, 11, 50, 53, 15, 40,  0, 30, 31, 22, 48,\n",
       "       20, 17, 49, 29, 39, 35, 47, 33, 26, 51, 12, 12, 14,  1, 17, 10,  3,\n",
       "       31, 18, 34,  8, 39, 40, 37, 51, 11, 28, 30, 19, 47, 48, 19, 41, 52,\n",
       "       35, 48,  3, 20, 51, 36, 33, 14, 45,  1, 31, 11, 15, 30, 19, 21, 11,\n",
       "       21,  7, 17, 13, 52, 34, 48, 24, 54,  2, 23, 38, 37, 35,  9,  3, 34,\n",
       "       48,  8, 47, 53,  7, 33, 45,  9, 13,  8, 46, 25, 36, 46, 17, 37, 40,\n",
       "       17, 25, 29, 38, 56, 45, 27, 24, 44,  6, 36, 52, 23, 52, 13, 23, 21,\n",
       "       45, 17, 52, 53, 15,  8,  3, 41, 17, 54, 37, 47, 45, 40, 52, 18, 35,\n",
       "       38,  3, 28,  0, 11, 40, 25, 38, 55, 19, 50,  1, 16, 33, 34, 56, 21,\n",
       "       33, 49, 10, 54, 35, 55, 35, 47, 37, 28,  4, 17, 13, 29, 27, 30, 15,\n",
       "       11, 51,  9, 35, 17, 52, 10, 18, 42, 11, 44, 17, 31, 29, 41,  3, 31,\n",
       "       15, 12, 15, 17, 10, 29,  3, 40, 25, 54, 12,  7, 25, 30, 41, 52, 37,\n",
       "       50, 30, 54, 36, 10, 49, 17, 36, 25, 21, 18, 31, 21, 14, 46, 14, 21,\n",
       "        2, 52, 55, 10, 29, 38, 35, 18, 48, 11, 37, 52, 30, 17, 51, 35,  4,\n",
       "        1, 13,  6, 45, 10, 33, 54, 37, 34, 54,  5, 31, 10, 43, 32, 21, 55,\n",
       "       21, 19, 54, 15, 36, 36, 40, 41, 53, 12, 17, 19, 47, 47,  5, 14,  6,\n",
       "       13, 53, 23, 44, 26, 35, 16, 36, 56, 44, 55, 31, 40, 51, 35, 18, 25,\n",
       "       18, 30, 55, 23, 23, 24, 42,  5, 54,  9, 32, 36, 45, 36, 26, 42, 11,\n",
       "       27, 46, 26, 28, 43, 17, 26, 33, 35, 28, 30, 34, 23, 49, 13, 46,  5,\n",
       "       11, 26, 21, 51, 14, 25, 16, 52, 39,  8, 10, 45, 26, 14, 14,  2, 34,\n",
       "       46, 28, 13, 53, 42,  3, 31, 24, 23, 23, 16, 18,  3, 48, 28, 20, 53,\n",
       "       30, 25,  6, 16, 35, 11, 13, 30, 28, 10, 21, 49, 23, 13, 17, 56, 36,\n",
       "       32,  4, 21,  0,  1, 38,  7,  1, 40,  9,  1, 26, 10, 20, 29, 40, 39,\n",
       "       52, 21, 25, 46, 14, 22, 19, 48, 23, 18, 19, 35,  2, 10, 31, 29, 11,\n",
       "       10, 34, 17, 49, 37, 49, 53, 56, 25, 41, 46, 32, 16, 53, 42,  3,  3,\n",
       "        7, 24, 25, 49, 46, 21, 19, 29, 17, 36, 33, 53, 48, 24, 19,  9, 15,\n",
       "       21, 31, 37, 29,  6, 33, 32, 53, 29, 40, 38, 17, 33,  1,  8, 40,  3,\n",
       "       35, 39, 51, 36, 24, 20, 55, 27, 31, 28, 23, 39, 51, 13,  0, 52, 52,\n",
       "       21,  0, 38, 22, 25,  5, 15, 52, 39, 38, 34,  5, 12,  8, 18, 18, 23,\n",
       "       40,  8, 31, 32, 12, 16, 40, 31, 29, 29, 19,  1, 14,  8, 24, 29, 34,\n",
       "       48,  0, 30, 54, 38, 37, 18, 36,  8, 28, 10, 46, 12, 23,  0,  8, 28,\n",
       "        8, 49, 42,  2, 53, 38, 41, 47, 26, 33, 38, 12, 47, 30, 39, 11,  1,\n",
       "       23,  2, 19, 14, 11, 13, 17, 40, 28, 12,  5, 40, 39, 44, 46, 19, 22,\n",
       "       36, 22, 25, 55,  9, 31,  5, 17,  8,  7, 11, 24, 51, 11,  3, 28, 19,\n",
       "        0, 53, 23, 15,  9, 36, 48, 44, 21, 17,  2, 30,  8, 56, 49, 23, 16,\n",
       "        5, 30, 30,  1, 51, 56, 19, 45, 33, 43, 20,  5, 20, 20, 49, 15, 53,\n",
       "        1, 35, 19, 30, 55, 53, 39, 30], dtype=int32)"
      ]
     },
     "execution_count": 58,
     "metadata": {},
     "output_type": "execute_result"
    }
   ],
   "source": [
    "cluster_method, reduced_data = vizualize_clusters(kmeans, X_data=X_scaled)"
   ]
  },
  {
   "cell_type": "code",
   "execution_count": null,
   "metadata": {},
   "outputs": [],
   "source": []
  }
 ],
 "metadata": {
  "kernelspec": {
   "display_name": "fac",
   "language": "python",
   "name": "python3"
  },
  "language_info": {
   "codemirror_mode": {
    "name": "ipython",
    "version": 3
   },
   "file_extension": ".py",
   "mimetype": "text/x-python",
   "name": "python",
   "nbconvert_exporter": "python",
   "pygments_lexer": "ipython3",
   "version": "3.11.5"
  }
 },
 "nbformat": 4,
 "nbformat_minor": 2
}
